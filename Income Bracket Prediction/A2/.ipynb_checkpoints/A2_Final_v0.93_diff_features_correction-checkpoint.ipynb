{
 "cells": [
  {
   "cell_type": "markdown",
   "metadata": {},
   "source": [
    "## MIE 1624 Introduction to Data Science and Analytics – Winter 2018\n",
    "\n",
    "## Assignment 2"
   ]
  },
  {
   "cell_type": "markdown",
   "metadata": {},
   "source": [
    "## 1. Data cleaning (20 marks):"
   ]
  },
  {
   "cell_type": "code",
   "execution_count": 27,
   "metadata": {
    "collapsed": true
   },
   "outputs": [],
   "source": [
    "import pandas as pd\n",
    "import numpy as np\n",
    "import seaborn as sns\n",
    "import matplotlib.pyplot as plt\n",
    "% matplotlib inline"
   ]
  },
  {
   "cell_type": "code",
   "execution_count": 28,
   "metadata": {},
   "outputs": [
    {
     "name": "stdout",
     "output_type": "stream",
     "text": [
      "(24421, 15)\n"
     ]
    },
    {
     "data": {
      "text/html": [
       "<div>\n",
       "<style>\n",
       "    .dataframe thead tr:only-child th {\n",
       "        text-align: right;\n",
       "    }\n",
       "\n",
       "    .dataframe thead th {\n",
       "        text-align: left;\n",
       "    }\n",
       "\n",
       "    .dataframe tbody tr th {\n",
       "        vertical-align: top;\n",
       "    }\n",
       "</style>\n",
       "<table border=\"1\" class=\"dataframe\">\n",
       "  <thead>\n",
       "    <tr style=\"text-align: right;\">\n",
       "      <th></th>\n",
       "      <th>Age</th>\n",
       "      <th>WorkClass</th>\n",
       "      <th>FinalWeight</th>\n",
       "      <th>Education</th>\n",
       "      <th>EducationLvl</th>\n",
       "      <th>MaritalStatus</th>\n",
       "      <th>Occupation</th>\n",
       "      <th>Relationship</th>\n",
       "      <th>Race</th>\n",
       "      <th>Sex</th>\n",
       "      <th>CapitalGain</th>\n",
       "      <th>CapitalLoss</th>\n",
       "      <th>HoursPerWeek</th>\n",
       "      <th>NativeCountry</th>\n",
       "      <th>IncomeBracket</th>\n",
       "    </tr>\n",
       "  </thead>\n",
       "  <tbody>\n",
       "    <tr>\n",
       "      <th>0</th>\n",
       "      <td>42</td>\n",
       "      <td>State-gov</td>\n",
       "      <td>179151</td>\n",
       "      <td>Some-college</td>\n",
       "      <td>10</td>\n",
       "      <td>Married-civ-spouse</td>\n",
       "      <td>Farming-fishing</td>\n",
       "      <td>Husband</td>\n",
       "      <td>White</td>\n",
       "      <td>Male</td>\n",
       "      <td>0</td>\n",
       "      <td>0</td>\n",
       "      <td>40</td>\n",
       "      <td>United-States</td>\n",
       "      <td>&lt;50K</td>\n",
       "    </tr>\n",
       "    <tr>\n",
       "      <th>1</th>\n",
       "      <td>28</td>\n",
       "      <td>Private</td>\n",
       "      <td>68021</td>\n",
       "      <td>Some-college</td>\n",
       "      <td>10</td>\n",
       "      <td>Never-married</td>\n",
       "      <td>Other-service</td>\n",
       "      <td>Not-in-family</td>\n",
       "      <td>White</td>\n",
       "      <td>Female</td>\n",
       "      <td>0</td>\n",
       "      <td>0</td>\n",
       "      <td>30</td>\n",
       "      <td>United-States</td>\n",
       "      <td>&lt;50K</td>\n",
       "    </tr>\n",
       "    <tr>\n",
       "      <th>2</th>\n",
       "      <td>24</td>\n",
       "      <td>Private</td>\n",
       "      <td>233499</td>\n",
       "      <td>Some-college</td>\n",
       "      <td>10</td>\n",
       "      <td>Married-civ-spouse</td>\n",
       "      <td>Transport-moving</td>\n",
       "      <td>Husband</td>\n",
       "      <td>White</td>\n",
       "      <td>Male</td>\n",
       "      <td>0</td>\n",
       "      <td>0</td>\n",
       "      <td>40</td>\n",
       "      <td>United-States</td>\n",
       "      <td>50-100K</td>\n",
       "    </tr>\n",
       "    <tr>\n",
       "      <th>3</th>\n",
       "      <td>32</td>\n",
       "      <td>Self-emp-not-inc</td>\n",
       "      <td>168782</td>\n",
       "      <td>9th</td>\n",
       "      <td>5</td>\n",
       "      <td>Married-civ-spouse</td>\n",
       "      <td>Craft-repair</td>\n",
       "      <td>Husband</td>\n",
       "      <td>White</td>\n",
       "      <td>Male</td>\n",
       "      <td>0</td>\n",
       "      <td>0</td>\n",
       "      <td>32</td>\n",
       "      <td>United-States</td>\n",
       "      <td>&lt;50K</td>\n",
       "    </tr>\n",
       "    <tr>\n",
       "      <th>4</th>\n",
       "      <td>55</td>\n",
       "      <td>Self-emp-not-inc</td>\n",
       "      <td>105582</td>\n",
       "      <td>Masters</td>\n",
       "      <td>14</td>\n",
       "      <td>Married-civ-spouse</td>\n",
       "      <td>Sales</td>\n",
       "      <td>Husband</td>\n",
       "      <td>White</td>\n",
       "      <td>Male</td>\n",
       "      <td>2228</td>\n",
       "      <td>0</td>\n",
       "      <td>50</td>\n",
       "      <td>United-States</td>\n",
       "      <td>&lt;50K</td>\n",
       "    </tr>\n",
       "  </tbody>\n",
       "</table>\n",
       "</div>"
      ],
      "text/plain": [
       "   Age         WorkClass  FinalWeight     Education  EducationLvl  \\\n",
       "0   42         State-gov       179151  Some-college            10   \n",
       "1   28           Private        68021  Some-college            10   \n",
       "2   24           Private       233499  Some-college            10   \n",
       "3   32  Self-emp-not-inc       168782           9th             5   \n",
       "4   55  Self-emp-not-inc       105582       Masters            14   \n",
       "\n",
       "        MaritalStatus        Occupation   Relationship   Race     Sex  \\\n",
       "0  Married-civ-spouse   Farming-fishing        Husband  White    Male   \n",
       "1       Never-married     Other-service  Not-in-family  White  Female   \n",
       "2  Married-civ-spouse  Transport-moving        Husband  White    Male   \n",
       "3  Married-civ-spouse      Craft-repair        Husband  White    Male   \n",
       "4  Married-civ-spouse             Sales        Husband  White    Male   \n",
       "\n",
       "   CapitalGain  CapitalLoss  HoursPerWeek  NativeCountry IncomeBracket  \n",
       "0            0            0            40  United-States          <50K  \n",
       "1            0            0            30  United-States          <50K  \n",
       "2            0            0            40  United-States       50-100K  \n",
       "3            0            0            32  United-States          <50K  \n",
       "4         2228            0            50  United-States          <50K  "
      ]
     },
     "execution_count": 28,
     "metadata": {},
     "output_type": "execute_result"
    }
   ],
   "source": [
    "# Importing train & test data\n",
    "train = pd.read_csv('income-training.csv')\n",
    "print(train.shape)\n",
    "train.head()"
   ]
  },
  {
   "cell_type": "code",
   "execution_count": 29,
   "metadata": {},
   "outputs": [
    {
     "name": "stdout",
     "output_type": "stream",
     "text": [
      "(12211, 15)\n"
     ]
    },
    {
     "data": {
      "text/html": [
       "<div>\n",
       "<style>\n",
       "    .dataframe thead tr:only-child th {\n",
       "        text-align: right;\n",
       "    }\n",
       "\n",
       "    .dataframe thead th {\n",
       "        text-align: left;\n",
       "    }\n",
       "\n",
       "    .dataframe tbody tr th {\n",
       "        vertical-align: top;\n",
       "    }\n",
       "</style>\n",
       "<table border=\"1\" class=\"dataframe\">\n",
       "  <thead>\n",
       "    <tr style=\"text-align: right;\">\n",
       "      <th></th>\n",
       "      <th>Age</th>\n",
       "      <th>WorkClass</th>\n",
       "      <th>FinalWeight</th>\n",
       "      <th>Education</th>\n",
       "      <th>EducationLvl</th>\n",
       "      <th>MaritalStatus</th>\n",
       "      <th>Occupation</th>\n",
       "      <th>Relationship</th>\n",
       "      <th>Race</th>\n",
       "      <th>Sex</th>\n",
       "      <th>CapitalGain</th>\n",
       "      <th>CapitalLoss</th>\n",
       "      <th>HoursPerWeek</th>\n",
       "      <th>NativeCountry</th>\n",
       "      <th>IncomeBracket</th>\n",
       "    </tr>\n",
       "  </thead>\n",
       "  <tbody>\n",
       "    <tr>\n",
       "      <th>0</th>\n",
       "      <td>57</td>\n",
       "      <td>Self-emp-not-inc</td>\n",
       "      <td>152030</td>\n",
       "      <td>Some-college</td>\n",
       "      <td>10</td>\n",
       "      <td>Married-civ-spouse</td>\n",
       "      <td>Sales</td>\n",
       "      <td>Wife</td>\n",
       "      <td>White</td>\n",
       "      <td>Female</td>\n",
       "      <td>0</td>\n",
       "      <td>0</td>\n",
       "      <td>25</td>\n",
       "      <td>United-States</td>\n",
       "      <td>50-100K</td>\n",
       "    </tr>\n",
       "    <tr>\n",
       "      <th>1</th>\n",
       "      <td>35</td>\n",
       "      <td>Private</td>\n",
       "      <td>341643</td>\n",
       "      <td>Bachelors</td>\n",
       "      <td>13</td>\n",
       "      <td>Never-married</td>\n",
       "      <td>Other-service</td>\n",
       "      <td>Other-relative</td>\n",
       "      <td>White</td>\n",
       "      <td>Male</td>\n",
       "      <td>0</td>\n",
       "      <td>0</td>\n",
       "      <td>50</td>\n",
       "      <td>United-States</td>\n",
       "      <td>&lt;50K</td>\n",
       "    </tr>\n",
       "    <tr>\n",
       "      <th>2</th>\n",
       "      <td>26</td>\n",
       "      <td>Private</td>\n",
       "      <td>40915</td>\n",
       "      <td>Bachelors</td>\n",
       "      <td>13</td>\n",
       "      <td>Never-married</td>\n",
       "      <td>Other-service</td>\n",
       "      <td>Not-in-family</td>\n",
       "      <td>White</td>\n",
       "      <td>Female</td>\n",
       "      <td>0</td>\n",
       "      <td>0</td>\n",
       "      <td>25</td>\n",
       "      <td>United-States</td>\n",
       "      <td>&lt;50K</td>\n",
       "    </tr>\n",
       "    <tr>\n",
       "      <th>3</th>\n",
       "      <td>27</td>\n",
       "      <td>Federal-gov</td>\n",
       "      <td>257124</td>\n",
       "      <td>Bachelors</td>\n",
       "      <td>13</td>\n",
       "      <td>Never-married</td>\n",
       "      <td>Transport-moving</td>\n",
       "      <td>Other-relative</td>\n",
       "      <td>White</td>\n",
       "      <td>Male</td>\n",
       "      <td>0</td>\n",
       "      <td>0</td>\n",
       "      <td>35</td>\n",
       "      <td>United-States</td>\n",
       "      <td>&lt;50K</td>\n",
       "    </tr>\n",
       "    <tr>\n",
       "      <th>4</th>\n",
       "      <td>21</td>\n",
       "      <td>Private</td>\n",
       "      <td>256278</td>\n",
       "      <td>HS-grad</td>\n",
       "      <td>9</td>\n",
       "      <td>Never-married</td>\n",
       "      <td>Other-service</td>\n",
       "      <td>Other-relative</td>\n",
       "      <td>Other</td>\n",
       "      <td>Female</td>\n",
       "      <td>0</td>\n",
       "      <td>0</td>\n",
       "      <td>35</td>\n",
       "      <td>El-Salvador</td>\n",
       "      <td>&lt;50K</td>\n",
       "    </tr>\n",
       "  </tbody>\n",
       "</table>\n",
       "</div>"
      ],
      "text/plain": [
       "   Age         WorkClass  FinalWeight     Education  EducationLvl  \\\n",
       "0   57  Self-emp-not-inc       152030  Some-college            10   \n",
       "1   35           Private       341643     Bachelors            13   \n",
       "2   26           Private        40915     Bachelors            13   \n",
       "3   27       Federal-gov       257124     Bachelors            13   \n",
       "4   21           Private       256278       HS-grad             9   \n",
       "\n",
       "        MaritalStatus        Occupation    Relationship   Race     Sex  \\\n",
       "0  Married-civ-spouse             Sales            Wife  White  Female   \n",
       "1       Never-married     Other-service  Other-relative  White    Male   \n",
       "2       Never-married     Other-service   Not-in-family  White  Female   \n",
       "3       Never-married  Transport-moving  Other-relative  White    Male   \n",
       "4       Never-married     Other-service  Other-relative  Other  Female   \n",
       "\n",
       "   CapitalGain  CapitalLoss  HoursPerWeek  NativeCountry IncomeBracket  \n",
       "0            0            0            25  United-States       50-100K  \n",
       "1            0            0            50  United-States          <50K  \n",
       "2            0            0            25  United-States          <50K  \n",
       "3            0            0            35  United-States          <50K  \n",
       "4            0            0            35    El-Salvador          <50K  "
      ]
     },
     "execution_count": 29,
     "metadata": {},
     "output_type": "execute_result"
    }
   ],
   "source": [
    "# Importing train & test data\n",
    "test = pd.read_csv('income-testing.csv')\n",
    "print(test.shape)\n",
    "test.head()"
   ]
  },
  {
   "cell_type": "code",
   "execution_count": 30,
   "metadata": {},
   "outputs": [
    {
     "name": "stdout",
     "output_type": "stream",
     "text": [
      "Counts of empty cell in Age column = 0\n",
      "Counts of empty cell in WorkClass column = 1384\n",
      "Counts of empty cell in FinalWeight column = 0\n",
      "Counts of empty cell in Education column = 0\n",
      "Counts of empty cell in EducationLvl column = 0\n",
      "Counts of empty cell in MaritalStatus column = 0\n",
      "Counts of empty cell in Occupation column = 1390\n",
      "Counts of empty cell in Relationship column = 0\n",
      "Counts of empty cell in Race column = 0\n",
      "Counts of empty cell in Sex column = 0\n",
      "Counts of empty cell in CapitalGain column = 0\n",
      "Counts of empty cell in CapitalLoss column = 0\n",
      "Counts of empty cell in HoursPerWeek column = 0\n",
      "Counts of empty cell in NativeCountry column = 395\n",
      "Counts of empty cell in IncomeBracket column = 0\n"
     ]
    }
   ],
   "source": [
    "# Find out how many 'null' values(empty values) are there in each column\n",
    "col = train.columns\n",
    "for c in col:\n",
    "    print('Counts of empty cell in {0} column = {1}'.format(c,train[train[c].isnull()].shape[0]))"
   ]
  },
  {
   "cell_type": "code",
   "execution_count": 31,
   "metadata": {},
   "outputs": [
    {
     "data": {
      "text/html": [
       "<div>\n",
       "<style>\n",
       "    .dataframe thead tr:only-child th {\n",
       "        text-align: right;\n",
       "    }\n",
       "\n",
       "    .dataframe thead th {\n",
       "        text-align: left;\n",
       "    }\n",
       "\n",
       "    .dataframe tbody tr th {\n",
       "        vertical-align: top;\n",
       "    }\n",
       "</style>\n",
       "<table border=\"1\" class=\"dataframe\">\n",
       "  <thead>\n",
       "    <tr style=\"text-align: right;\">\n",
       "      <th></th>\n",
       "      <th>Age</th>\n",
       "      <th>WorkClass</th>\n",
       "      <th>FinalWeight</th>\n",
       "      <th>Education</th>\n",
       "      <th>EducationLvl</th>\n",
       "      <th>MaritalStatus</th>\n",
       "      <th>Occupation</th>\n",
       "      <th>Relationship</th>\n",
       "      <th>Race</th>\n",
       "      <th>Sex</th>\n",
       "      <th>CapitalGain</th>\n",
       "      <th>CapitalLoss</th>\n",
       "      <th>HoursPerWeek</th>\n",
       "      <th>NativeCountry</th>\n",
       "      <th>IncomeBracket</th>\n",
       "    </tr>\n",
       "  </thead>\n",
       "  <tbody>\n",
       "  </tbody>\n",
       "</table>\n",
       "</div>"
      ],
      "text/plain": [
       "Empty DataFrame\n",
       "Columns: [Age, WorkClass, FinalWeight, Education, EducationLvl, MaritalStatus, Occupation, Relationship, Race, Sex, CapitalGain, CapitalLoss, HoursPerWeek, NativeCountry, IncomeBracket]\n",
       "Index: []"
      ]
     },
     "execution_count": 31,
     "metadata": {},
     "output_type": "execute_result"
    }
   ],
   "source": [
    "# filling empty cells in 'WorkClass' column with its mode value\n",
    "train.loc[pd.isnull(train['WorkClass']),'WorkClass'] = 'Private'\n",
    "train.loc[pd.isnull(train['WorkClass'])]"
   ]
  },
  {
   "cell_type": "code",
   "execution_count": 32,
   "metadata": {},
   "outputs": [
    {
     "data": {
      "text/html": [
       "<div>\n",
       "<style>\n",
       "    .dataframe thead tr:only-child th {\n",
       "        text-align: right;\n",
       "    }\n",
       "\n",
       "    .dataframe thead th {\n",
       "        text-align: left;\n",
       "    }\n",
       "\n",
       "    .dataframe tbody tr th {\n",
       "        vertical-align: top;\n",
       "    }\n",
       "</style>\n",
       "<table border=\"1\" class=\"dataframe\">\n",
       "  <thead>\n",
       "    <tr style=\"text-align: right;\">\n",
       "      <th></th>\n",
       "      <th>Age</th>\n",
       "      <th>WorkClass</th>\n",
       "      <th>FinalWeight</th>\n",
       "      <th>Education</th>\n",
       "      <th>EducationLvl</th>\n",
       "      <th>MaritalStatus</th>\n",
       "      <th>Occupation</th>\n",
       "      <th>Relationship</th>\n",
       "      <th>Race</th>\n",
       "      <th>Sex</th>\n",
       "      <th>CapitalGain</th>\n",
       "      <th>CapitalLoss</th>\n",
       "      <th>HoursPerWeek</th>\n",
       "      <th>NativeCountry</th>\n",
       "      <th>IncomeBracket</th>\n",
       "    </tr>\n",
       "  </thead>\n",
       "  <tbody>\n",
       "  </tbody>\n",
       "</table>\n",
       "</div>"
      ],
      "text/plain": [
       "Empty DataFrame\n",
       "Columns: [Age, WorkClass, FinalWeight, Education, EducationLvl, MaritalStatus, Occupation, Relationship, Race, Sex, CapitalGain, CapitalLoss, HoursPerWeek, NativeCountry, IncomeBracket]\n",
       "Index: []"
      ]
     },
     "execution_count": 32,
     "metadata": {},
     "output_type": "execute_result"
    }
   ],
   "source": [
    "# Do the same process for model training purpose\n",
    "test.loc[pd.isnull(test['WorkClass']),'WorkClass'] = 'Private'\n",
    "test.loc[pd.isnull(test['WorkClass'])]"
   ]
  },
  {
   "cell_type": "code",
   "execution_count": 33,
   "metadata": {},
   "outputs": [
    {
     "data": {
      "text/plain": [
       "Exec-managerial      3102\n",
       "Prof-specialty       3099\n",
       "Craft-repair         3062\n",
       "Adm-clerical         2833\n",
       "Sales                2738\n",
       "Other-service        2449\n",
       "Machine-op-inspct    1499\n",
       "Transport-moving     1151\n",
       "Handlers-cleaners    1062\n",
       "Tech-support          723\n",
       "Farming-fishing       710\n",
       "Protective-serv       480\n",
       "Priv-house-serv       115\n",
       "Armed-Forces            8\n",
       "Name: Occupation, dtype: int64"
      ]
     },
     "execution_count": 33,
     "metadata": {},
     "output_type": "execute_result"
    }
   ],
   "source": [
    "# Occupation data seemed to be well distributed, \n",
    "# so instead of taking mode value for empty cells, I decided to remove empty cells to keep the distribution unaffected\n",
    "train['Occupation'].value_counts()"
   ]
  },
  {
   "cell_type": "code",
   "execution_count": 34,
   "metadata": {},
   "outputs": [
    {
     "data": {
      "text/html": [
       "<div>\n",
       "<style>\n",
       "    .dataframe thead tr:only-child th {\n",
       "        text-align: right;\n",
       "    }\n",
       "\n",
       "    .dataframe thead th {\n",
       "        text-align: left;\n",
       "    }\n",
       "\n",
       "    .dataframe tbody tr th {\n",
       "        vertical-align: top;\n",
       "    }\n",
       "</style>\n",
       "<table border=\"1\" class=\"dataframe\">\n",
       "  <thead>\n",
       "    <tr style=\"text-align: right;\">\n",
       "      <th></th>\n",
       "      <th>Age</th>\n",
       "      <th>WorkClass</th>\n",
       "      <th>FinalWeight</th>\n",
       "      <th>Education</th>\n",
       "      <th>EducationLvl</th>\n",
       "      <th>MaritalStatus</th>\n",
       "      <th>Occupation</th>\n",
       "      <th>Relationship</th>\n",
       "      <th>Race</th>\n",
       "      <th>Sex</th>\n",
       "      <th>CapitalGain</th>\n",
       "      <th>CapitalLoss</th>\n",
       "      <th>HoursPerWeek</th>\n",
       "      <th>NativeCountry</th>\n",
       "      <th>IncomeBracket</th>\n",
       "    </tr>\n",
       "  </thead>\n",
       "  <tbody>\n",
       "  </tbody>\n",
       "</table>\n",
       "</div>"
      ],
      "text/plain": [
       "Empty DataFrame\n",
       "Columns: [Age, WorkClass, FinalWeight, Education, EducationLvl, MaritalStatus, Occupation, Relationship, Race, Sex, CapitalGain, CapitalLoss, HoursPerWeek, NativeCountry, IncomeBracket]\n",
       "Index: []"
      ]
     },
     "execution_count": 34,
     "metadata": {},
     "output_type": "execute_result"
    }
   ],
   "source": [
    "# Remove empty values in 'Occupation'\n",
    "train = train[~pd.isnull(train['Occupation'])]\n",
    "train[train['Occupation'].isnull()]"
   ]
  },
  {
   "cell_type": "code",
   "execution_count": 35,
   "metadata": {},
   "outputs": [
    {
     "data": {
      "text/html": [
       "<div>\n",
       "<style>\n",
       "    .dataframe thead tr:only-child th {\n",
       "        text-align: right;\n",
       "    }\n",
       "\n",
       "    .dataframe thead th {\n",
       "        text-align: left;\n",
       "    }\n",
       "\n",
       "    .dataframe tbody tr th {\n",
       "        vertical-align: top;\n",
       "    }\n",
       "</style>\n",
       "<table border=\"1\" class=\"dataframe\">\n",
       "  <thead>\n",
       "    <tr style=\"text-align: right;\">\n",
       "      <th></th>\n",
       "      <th>Age</th>\n",
       "      <th>WorkClass</th>\n",
       "      <th>FinalWeight</th>\n",
       "      <th>Education</th>\n",
       "      <th>EducationLvl</th>\n",
       "      <th>MaritalStatus</th>\n",
       "      <th>Occupation</th>\n",
       "      <th>Relationship</th>\n",
       "      <th>Race</th>\n",
       "      <th>Sex</th>\n",
       "      <th>CapitalGain</th>\n",
       "      <th>CapitalLoss</th>\n",
       "      <th>HoursPerWeek</th>\n",
       "      <th>NativeCountry</th>\n",
       "      <th>IncomeBracket</th>\n",
       "    </tr>\n",
       "  </thead>\n",
       "  <tbody>\n",
       "  </tbody>\n",
       "</table>\n",
       "</div>"
      ],
      "text/plain": [
       "Empty DataFrame\n",
       "Columns: [Age, WorkClass, FinalWeight, Education, EducationLvl, MaritalStatus, Occupation, Relationship, Race, Sex, CapitalGain, CapitalLoss, HoursPerWeek, NativeCountry, IncomeBracket]\n",
       "Index: []"
      ]
     },
     "execution_count": 35,
     "metadata": {},
     "output_type": "execute_result"
    }
   ],
   "source": [
    "test = test[~pd.isnull(test['Occupation'])]\n",
    "test[test['Occupation'].isnull()]"
   ]
  },
  {
   "cell_type": "code",
   "execution_count": 36,
   "metadata": {},
   "outputs": [
    {
     "data": {
      "text/plain": [
       "United-States    20719\n",
       "Mexico             457\n",
       "Philippines        142\n",
       "Germany             90\n",
       "Puerto-Rico         89\n",
       "Name: NativeCountry, dtype: int64"
      ]
     },
     "execution_count": 36,
     "metadata": {},
     "output_type": "execute_result"
    }
   ],
   "source": [
    "train['NativeCountry'].value_counts().head()"
   ]
  },
  {
   "cell_type": "code",
   "execution_count": 37,
   "metadata": {},
   "outputs": [
    {
     "data": {
      "text/html": [
       "<div>\n",
       "<style>\n",
       "    .dataframe thead tr:only-child th {\n",
       "        text-align: right;\n",
       "    }\n",
       "\n",
       "    .dataframe thead th {\n",
       "        text-align: left;\n",
       "    }\n",
       "\n",
       "    .dataframe tbody tr th {\n",
       "        vertical-align: top;\n",
       "    }\n",
       "</style>\n",
       "<table border=\"1\" class=\"dataframe\">\n",
       "  <thead>\n",
       "    <tr style=\"text-align: right;\">\n",
       "      <th></th>\n",
       "      <th>Age</th>\n",
       "      <th>WorkClass</th>\n",
       "      <th>FinalWeight</th>\n",
       "      <th>Education</th>\n",
       "      <th>EducationLvl</th>\n",
       "      <th>MaritalStatus</th>\n",
       "      <th>Occupation</th>\n",
       "      <th>Relationship</th>\n",
       "      <th>Race</th>\n",
       "      <th>Sex</th>\n",
       "      <th>CapitalGain</th>\n",
       "      <th>CapitalLoss</th>\n",
       "      <th>HoursPerWeek</th>\n",
       "      <th>NativeCountry</th>\n",
       "      <th>IncomeBracket</th>\n",
       "    </tr>\n",
       "  </thead>\n",
       "  <tbody>\n",
       "  </tbody>\n",
       "</table>\n",
       "</div>"
      ],
      "text/plain": [
       "Empty DataFrame\n",
       "Columns: [Age, WorkClass, FinalWeight, Education, EducationLvl, MaritalStatus, Occupation, Relationship, Race, Sex, CapitalGain, CapitalLoss, HoursPerWeek, NativeCountry, IncomeBracket]\n",
       "Index: []"
      ]
     },
     "execution_count": 37,
     "metadata": {},
     "output_type": "execute_result"
    }
   ],
   "source": [
    "# NativeCountry column has dominant value counts in 'United-States'\n",
    "# Therefore,empty cells were filled with its mode value\n",
    "train.loc[pd.isnull(train['NativeCountry']),'NativeCountry'] = 'United-States'\n",
    "train.loc[pd.isnull(train['NativeCountry'])]"
   ]
  },
  {
   "cell_type": "code",
   "execution_count": 38,
   "metadata": {},
   "outputs": [
    {
     "data": {
      "text/html": [
       "<div>\n",
       "<style>\n",
       "    .dataframe thead tr:only-child th {\n",
       "        text-align: right;\n",
       "    }\n",
       "\n",
       "    .dataframe thead th {\n",
       "        text-align: left;\n",
       "    }\n",
       "\n",
       "    .dataframe tbody tr th {\n",
       "        vertical-align: top;\n",
       "    }\n",
       "</style>\n",
       "<table border=\"1\" class=\"dataframe\">\n",
       "  <thead>\n",
       "    <tr style=\"text-align: right;\">\n",
       "      <th></th>\n",
       "      <th>Age</th>\n",
       "      <th>WorkClass</th>\n",
       "      <th>FinalWeight</th>\n",
       "      <th>Education</th>\n",
       "      <th>EducationLvl</th>\n",
       "      <th>MaritalStatus</th>\n",
       "      <th>Occupation</th>\n",
       "      <th>Relationship</th>\n",
       "      <th>Race</th>\n",
       "      <th>Sex</th>\n",
       "      <th>CapitalGain</th>\n",
       "      <th>CapitalLoss</th>\n",
       "      <th>HoursPerWeek</th>\n",
       "      <th>NativeCountry</th>\n",
       "      <th>IncomeBracket</th>\n",
       "    </tr>\n",
       "  </thead>\n",
       "  <tbody>\n",
       "  </tbody>\n",
       "</table>\n",
       "</div>"
      ],
      "text/plain": [
       "Empty DataFrame\n",
       "Columns: [Age, WorkClass, FinalWeight, Education, EducationLvl, MaritalStatus, Occupation, Relationship, Race, Sex, CapitalGain, CapitalLoss, HoursPerWeek, NativeCountry, IncomeBracket]\n",
       "Index: []"
      ]
     },
     "execution_count": 38,
     "metadata": {},
     "output_type": "execute_result"
    }
   ],
   "source": [
    "test.loc[pd.isnull(test['NativeCountry']),'NativeCountry'] = 'United-States'\n",
    "test.loc[pd.isnull(test['NativeCountry'])]"
   ]
  },
  {
   "cell_type": "code",
   "execution_count": 39,
   "metadata": {},
   "outputs": [
    {
     "name": "stdout",
     "output_type": "stream",
     "text": [
      "Counts of empty cell in Age column = 0\n",
      "Counts of empty cell in WorkClass column = 0\n",
      "Counts of empty cell in FinalWeight column = 0\n",
      "Counts of empty cell in Education column = 0\n",
      "Counts of empty cell in EducationLvl column = 0\n",
      "Counts of empty cell in MaritalStatus column = 0\n",
      "Counts of empty cell in Occupation column = 0\n",
      "Counts of empty cell in Relationship column = 0\n",
      "Counts of empty cell in Race column = 0\n",
      "Counts of empty cell in Sex column = 0\n",
      "Counts of empty cell in CapitalGain column = 0\n",
      "Counts of empty cell in CapitalLoss column = 0\n",
      "Counts of empty cell in HoursPerWeek column = 0\n",
      "Counts of empty cell in NativeCountry column = 0\n",
      "Counts of empty cell in IncomeBracket column = 0\n"
     ]
    }
   ],
   "source": [
    "# Test whethere there is any more enmpty cells in the train data set\n",
    "col = train.columns\n",
    "for c in col:\n",
    "    print('Counts of empty cell in {0} column = {1}'.format(c,train[train[c].isnull()].shape[0]))"
   ]
  },
  {
   "cell_type": "markdown",
   "metadata": {},
   "source": [
    "### [Answers & Analysis to Question 1]"
   ]
  },
  {
   "cell_type": "markdown",
   "metadata": {},
   "source": [
    "## 2. Exploratory data analysis (15 marks):\n",
    "Present 3 graphical figures that represent trends in the data. \n",
    "\n",
    "How could these trends be used to help with the task of classification of income bracket? \n"
   ]
  },
  {
   "cell_type": "markdown",
   "metadata": {},
   "source": [
    "#### Data Visualization"
   ]
  },
  {
   "cell_type": "code",
   "execution_count": 40,
   "metadata": {},
   "outputs": [
    {
     "data": {
      "text/plain": [
       "<matplotlib.axes._subplots.AxesSubplot at 0x1a108e34a8>"
      ]
     },
     "execution_count": 40,
     "metadata": {},
     "output_type": "execute_result"
    },
    {
     "data": {
      "image/png": "[encoded data removed]",
      "text/plain": [
       "<matplotlib.figure.Figure at 0x1a1087cb70>"
      ]
     },
     "metadata": {},
     "output_type": "display_data"
    }
   ],
   "source": [
    "# IncomeBracket distribution according to Sex, Race, Relationship\n",
    "figure, (ax1,ax2,ax3) = plt.subplots(nrows = 3, ncols=1)\n",
    "figure.set_size_inches(8,15)\n",
    "\n",
    "sns.countplot(data=train, y = 'Sex', hue='IncomeBracket', ax =ax1)\n",
    "sns.countplot(data=train, y = 'Race', hue='IncomeBracket', ax =ax2)\n",
    "sns.countplot(data=train, y = 'Relationship', hue='IncomeBracket', ax =ax3)"
   ]
  },
  {
   "cell_type": "code",
   "execution_count": 41,
   "metadata": {},
   "outputs": [
    {
     "data": {
      "text/plain": [
       "<matplotlib.axes._subplots.AxesSubplot at 0x1a1b8aeda0>"
      ]
     },
     "execution_count": 41,
     "metadata": {},
     "output_type": "execute_result"
    },
    {
     "data": {
      "image/png": "[encoded data removed]",
      "text/plain": [
       "<matplotlib.figure.Figure at 0x1a1aeb1f60>"
      ]
     },
     "metadata": {},
     "output_type": "display_data"
    }
   ],
   "source": [
    "# IncomeBracket distribution according to EducationLvl\n",
    "figure, (ax1) = plt.subplots(nrows = 1, ncols=1)\n",
    "figure.set_size_inches(20,5)\n",
    "\n",
    "sns.countplot(data=train, x = 'EducationLvl', hue='IncomeBracket', ax =ax1)"
   ]
  },
  {
   "cell_type": "code",
   "execution_count": 42,
   "metadata": {},
   "outputs": [
    {
     "data": {
      "text/plain": [
       "<matplotlib.axes._subplots.AxesSubplot at 0x1a1bd21978>"
      ]
     },
     "execution_count": 42,
     "metadata": {},
     "output_type": "execute_result"
    },
    {
     "data": {
      "image/png": "[encoded data removed]",
      "text/plain": [
       "<matplotlib.figure.Figure at 0x1a1b96aeb8>"
      ]
     },
     "metadata": {},
     "output_type": "display_data"
    }
   ],
   "source": [
    "# IncomeBracket distribution according to Occupation and WorkClass\n",
    "figure, (ax1,ax2) = plt.subplots(nrows = 2, ncols=1)\n",
    "figure.set_size_inches(20,10)\n",
    "plt.setp(ax1.get_xticklabels(), rotation=20) \n",
    "\n",
    "sns.countplot(data=train, x = 'Occupation', hue='IncomeBracket', ax =ax1)\n",
    "sns.countplot(data=train, x = 'WorkClass', hue='IncomeBracket', ax =ax2)"
   ]
  },
  {
   "cell_type": "markdown",
   "metadata": {},
   "source": [
    "#### * By visualizing train data in terms of Income Bracket, there were some columns which showed noticeable difference in Income bracket distribution\n",
    "#### * I concluded that the columns that shows clear difference in data distribution are considered to be good indicators(features) to the IncomeBracket distribution\n",
    "#### * feature importance is analyzed by correlation plot in the following lines"
   ]
  },
  {
   "cell_type": "code",
   "execution_count": 43,
   "metadata": {},
   "outputs": [
    {
     "data": {
      "text/html": [
       "<div>\n",
       "<style>\n",
       "    .dataframe thead tr:only-child th {\n",
       "        text-align: right;\n",
       "    }\n",
       "\n",
       "    .dataframe thead th {\n",
       "        text-align: left;\n",
       "    }\n",
       "\n",
       "    .dataframe tbody tr th {\n",
       "        vertical-align: top;\n",
       "    }\n",
       "</style>\n",
       "<table border=\"1\" class=\"dataframe\">\n",
       "  <thead>\n",
       "    <tr style=\"text-align: right;\">\n",
       "      <th></th>\n",
       "      <th>Age</th>\n",
       "      <th>WorkClass</th>\n",
       "      <th>FinalWeight</th>\n",
       "      <th>Education</th>\n",
       "      <th>EducationLvl</th>\n",
       "      <th>MaritalStatus</th>\n",
       "      <th>Occupation</th>\n",
       "      <th>Relationship</th>\n",
       "      <th>Race</th>\n",
       "      <th>Sex</th>\n",
       "      <th>CapitalGain</th>\n",
       "      <th>CapitalLoss</th>\n",
       "      <th>HoursPerWeek</th>\n",
       "      <th>NativeCountry</th>\n",
       "      <th>IncomeBracket</th>\n",
       "    </tr>\n",
       "  </thead>\n",
       "  <tbody>\n",
       "    <tr>\n",
       "      <th>0</th>\n",
       "      <td>42</td>\n",
       "      <td>5</td>\n",
       "      <td>179151</td>\n",
       "      <td>15</td>\n",
       "      <td>10</td>\n",
       "      <td>2</td>\n",
       "      <td>4</td>\n",
       "      <td>0</td>\n",
       "      <td>4</td>\n",
       "      <td>1</td>\n",
       "      <td>0</td>\n",
       "      <td>0</td>\n",
       "      <td>40</td>\n",
       "      <td>38</td>\n",
       "      <td>1</td>\n",
       "    </tr>\n",
       "    <tr>\n",
       "      <th>1</th>\n",
       "      <td>28</td>\n",
       "      <td>2</td>\n",
       "      <td>68021</td>\n",
       "      <td>15</td>\n",
       "      <td>10</td>\n",
       "      <td>4</td>\n",
       "      <td>7</td>\n",
       "      <td>1</td>\n",
       "      <td>4</td>\n",
       "      <td>0</td>\n",
       "      <td>0</td>\n",
       "      <td>0</td>\n",
       "      <td>30</td>\n",
       "      <td>38</td>\n",
       "      <td>1</td>\n",
       "    </tr>\n",
       "    <tr>\n",
       "      <th>2</th>\n",
       "      <td>24</td>\n",
       "      <td>2</td>\n",
       "      <td>233499</td>\n",
       "      <td>15</td>\n",
       "      <td>10</td>\n",
       "      <td>2</td>\n",
       "      <td>13</td>\n",
       "      <td>0</td>\n",
       "      <td>4</td>\n",
       "      <td>1</td>\n",
       "      <td>0</td>\n",
       "      <td>0</td>\n",
       "      <td>40</td>\n",
       "      <td>38</td>\n",
       "      <td>0</td>\n",
       "    </tr>\n",
       "    <tr>\n",
       "      <th>3</th>\n",
       "      <td>32</td>\n",
       "      <td>4</td>\n",
       "      <td>168782</td>\n",
       "      <td>6</td>\n",
       "      <td>5</td>\n",
       "      <td>2</td>\n",
       "      <td>2</td>\n",
       "      <td>0</td>\n",
       "      <td>4</td>\n",
       "      <td>1</td>\n",
       "      <td>0</td>\n",
       "      <td>0</td>\n",
       "      <td>32</td>\n",
       "      <td>38</td>\n",
       "      <td>1</td>\n",
       "    </tr>\n",
       "    <tr>\n",
       "      <th>4</th>\n",
       "      <td>55</td>\n",
       "      <td>4</td>\n",
       "      <td>105582</td>\n",
       "      <td>12</td>\n",
       "      <td>14</td>\n",
       "      <td>2</td>\n",
       "      <td>11</td>\n",
       "      <td>0</td>\n",
       "      <td>4</td>\n",
       "      <td>1</td>\n",
       "      <td>2228</td>\n",
       "      <td>0</td>\n",
       "      <td>50</td>\n",
       "      <td>38</td>\n",
       "      <td>1</td>\n",
       "    </tr>\n",
       "  </tbody>\n",
       "</table>\n",
       "</div>"
      ],
      "text/plain": [
       "   Age  WorkClass  FinalWeight  Education  EducationLvl  MaritalStatus  \\\n",
       "0   42          5       179151         15            10              2   \n",
       "1   28          2        68021         15            10              4   \n",
       "2   24          2       233499         15            10              2   \n",
       "3   32          4       168782          6             5              2   \n",
       "4   55          4       105582         12            14              2   \n",
       "\n",
       "   Occupation  Relationship  Race  Sex  CapitalGain  CapitalLoss  \\\n",
       "0           4             0     4    1            0            0   \n",
       "1           7             1     4    0            0            0   \n",
       "2          13             0     4    1            0            0   \n",
       "3           2             0     4    1            0            0   \n",
       "4          11             0     4    1         2228            0   \n",
       "\n",
       "   HoursPerWeek  NativeCountry  IncomeBracket  \n",
       "0            40             38              1  \n",
       "1            30             38              1  \n",
       "2            40             38              0  \n",
       "3            32             38              1  \n",
       "4            50             38              1  "
      ]
     },
     "execution_count": 43,
     "metadata": {},
     "output_type": "execute_result"
    }
   ],
   "source": [
    "# To visualize the feature importance, correlation plot will be used.\n",
    "# In order to use correlation plot, label encoding needs to be done first\n",
    "from sklearn.preprocessing import LabelEncoder\n",
    "\n",
    "labelencoder = LabelEncoder()\n",
    "    \n",
    "train['WorkClass'] = labelencoder.fit_transform(train['WorkClass'])\n",
    "train['Education'] = labelencoder.fit_transform(train['Education'])\n",
    "train['Occupation'] = labelencoder.fit_transform(train['Occupation'])\n",
    "train['MaritalStatus'] = labelencoder.fit_transform(train['MaritalStatus'])\n",
    "train['Relationship'] = labelencoder.fit_transform(train['Relationship'])\n",
    "train['Race'] = labelencoder.fit_transform(train['Race'])\n",
    "train['Sex'] = labelencoder.fit_transform(train['Sex'])\n",
    "train['NativeCountry'] = labelencoder.fit_transform(train['NativeCountry'])\n",
    "train['IncomeBracket'] = labelencoder.fit_transform(train['IncomeBracket'])\n",
    "\n",
    "# Now all columns are labeled in numerical value\n",
    "train.head()\n",
    "\n"
   ]
  },
  {
   "cell_type": "code",
   "execution_count": 44,
   "metadata": {},
   "outputs": [
    {
     "data": {
      "text/html": [
       "<div>\n",
       "<style>\n",
       "    .dataframe thead tr:only-child th {\n",
       "        text-align: right;\n",
       "    }\n",
       "\n",
       "    .dataframe thead th {\n",
       "        text-align: left;\n",
       "    }\n",
       "\n",
       "    .dataframe tbody tr th {\n",
       "        vertical-align: top;\n",
       "    }\n",
       "</style>\n",
       "<table border=\"1\" class=\"dataframe\">\n",
       "  <thead>\n",
       "    <tr style=\"text-align: right;\">\n",
       "      <th></th>\n",
       "      <th>Age</th>\n",
       "      <th>WorkClass</th>\n",
       "      <th>FinalWeight</th>\n",
       "      <th>Education</th>\n",
       "      <th>EducationLvl</th>\n",
       "      <th>MaritalStatus</th>\n",
       "      <th>Occupation</th>\n",
       "      <th>Relationship</th>\n",
       "      <th>Race</th>\n",
       "      <th>Sex</th>\n",
       "      <th>CapitalGain</th>\n",
       "      <th>CapitalLoss</th>\n",
       "      <th>HoursPerWeek</th>\n",
       "      <th>NativeCountry</th>\n",
       "      <th>IncomeBracket</th>\n",
       "    </tr>\n",
       "  </thead>\n",
       "  <tbody>\n",
       "    <tr>\n",
       "      <th>Age</th>\n",
       "      <td>1.000000</td>\n",
       "      <td>0.084063</td>\n",
       "      <td>-0.082423</td>\n",
       "      <td>-0.001635</td>\n",
       "      <td>0.046922</td>\n",
       "      <td>-0.264187</td>\n",
       "      <td>0.004121</td>\n",
       "      <td>-0.243031</td>\n",
       "      <td>0.025998</td>\n",
       "      <td>0.079998</td>\n",
       "      <td>0.076458</td>\n",
       "      <td>0.062805</td>\n",
       "      <td>0.099194</td>\n",
       "      <td>-0.007509</td>\n",
       "      <td>-0.062692</td>\n",
       "    </tr>\n",
       "    <tr>\n",
       "      <th>WorkClass</th>\n",
       "      <td>0.084063</td>\n",
       "      <td>1.000000</td>\n",
       "      <td>-0.037751</td>\n",
       "      <td>0.020688</td>\n",
       "      <td>0.041106</td>\n",
       "      <td>-0.029708</td>\n",
       "      <td>0.007399</td>\n",
       "      <td>-0.066862</td>\n",
       "      <td>0.048073</td>\n",
       "      <td>0.068021</td>\n",
       "      <td>0.034449</td>\n",
       "      <td>0.010346</td>\n",
       "      <td>0.044805</td>\n",
       "      <td>0.004637</td>\n",
       "      <td>0.001706</td>\n",
       "    </tr>\n",
       "    <tr>\n",
       "      <th>FinalWeight</th>\n",
       "      <td>-0.082423</td>\n",
       "      <td>-0.037751</td>\n",
       "      <td>1.000000</td>\n",
       "      <td>-0.030205</td>\n",
       "      <td>-0.042935</td>\n",
       "      <td>0.035610</td>\n",
       "      <td>-0.006404</td>\n",
       "      <td>0.012970</td>\n",
       "      <td>-0.031243</td>\n",
       "      <td>0.033493</td>\n",
       "      <td>-0.005166</td>\n",
       "      <td>0.002069</td>\n",
       "      <td>-0.018808</td>\n",
       "      <td>-0.066205</td>\n",
       "      <td>-0.002721</td>\n",
       "    </tr>\n",
       "    <tr>\n",
       "      <th>Education</th>\n",
       "      <td>-0.001635</td>\n",
       "      <td>0.020688</td>\n",
       "      <td>-0.030205</td>\n",
       "      <td>1.000000</td>\n",
       "      <td>0.347995</td>\n",
       "      <td>-0.047272</td>\n",
       "      <td>-0.032478</td>\n",
       "      <td>-0.023438</td>\n",
       "      <td>0.008047</td>\n",
       "      <td>-0.018075</td>\n",
       "      <td>0.029017</td>\n",
       "      <td>0.019548</td>\n",
       "      <td>0.065972</td>\n",
       "      <td>0.085112</td>\n",
       "      <td>-0.026384</td>\n",
       "    </tr>\n",
       "    <tr>\n",
       "      <th>EducationLvl</th>\n",
       "      <td>0.046922</td>\n",
       "      <td>0.041106</td>\n",
       "      <td>-0.042935</td>\n",
       "      <td>0.347995</td>\n",
       "      <td>1.000000</td>\n",
       "      <td>-0.067185</td>\n",
       "      <td>0.093808</td>\n",
       "      <td>-0.095541</td>\n",
       "      <td>0.019882</td>\n",
       "      <td>0.011472</td>\n",
       "      <td>0.133694</td>\n",
       "      <td>0.080549</td>\n",
       "      <td>0.149557</td>\n",
       "      <td>0.092255</td>\n",
       "      <td>-0.104370</td>\n",
       "    </tr>\n",
       "  </tbody>\n",
       "</table>\n",
       "</div>"
      ],
      "text/plain": [
       "                   Age  WorkClass  FinalWeight  Education  EducationLvl  \\\n",
       "Age           1.000000   0.084063    -0.082423  -0.001635      0.046922   \n",
       "WorkClass     0.084063   1.000000    -0.037751   0.020688      0.041106   \n",
       "FinalWeight  -0.082423  -0.037751     1.000000  -0.030205     -0.042935   \n",
       "Education    -0.001635   0.020688    -0.030205   1.000000      0.347995   \n",
       "EducationLvl  0.046922   0.041106    -0.042935   0.347995      1.000000   \n",
       "\n",
       "              MaritalStatus  Occupation  Relationship      Race       Sex  \\\n",
       "Age               -0.264187    0.004121     -0.243031  0.025998  0.079998   \n",
       "WorkClass         -0.029708    0.007399     -0.066862  0.048073  0.068021   \n",
       "FinalWeight        0.035610   -0.006404      0.012970 -0.031243  0.033493   \n",
       "Education         -0.047272   -0.032478     -0.023438  0.008047 -0.018075   \n",
       "EducationLvl      -0.067185    0.093808     -0.095541  0.019882  0.011472   \n",
       "\n",
       "              CapitalGain  CapitalLoss  HoursPerWeek  NativeCountry  \\\n",
       "Age              0.076458     0.062805      0.099194      -0.007509   \n",
       "WorkClass        0.034449     0.010346      0.044805       0.004637   \n",
       "FinalWeight     -0.005166     0.002069     -0.018808      -0.066205   \n",
       "Education        0.029017     0.019548      0.065972       0.085112   \n",
       "EducationLvl     0.133694     0.080549      0.149557       0.092255   \n",
       "\n",
       "              IncomeBracket  \n",
       "Age               -0.062692  \n",
       "WorkClass          0.001706  \n",
       "FinalWeight       -0.002721  \n",
       "Education         -0.026384  \n",
       "EducationLvl      -0.104370  "
      ]
     },
     "execution_count": 44,
     "metadata": {},
     "output_type": "execute_result"
    }
   ],
   "source": [
    "# Plot a correlation plot for the feature importance\n",
    "corr = train.corr()\n",
    "corr.head()"
   ]
  },
  {
   "cell_type": "code",
   "execution_count": 45,
   "metadata": {},
   "outputs": [
    {
     "data": {
      "text/plain": [
       "<matplotlib.axes._subplots.AxesSubplot at 0x1a1c1e0470>"
      ]
     },
     "execution_count": 45,
     "metadata": {},
     "output_type": "execute_result"
    },
    {
     "data": {
      "image/png": "[encoded data removed]",
      "text/plain": [
       "<matplotlib.figure.Figure at 0x1a1c17ba20>"
      ]
     },
     "metadata": {},
     "output_type": "display_data"
    }
   ],
   "source": [
    "# Set up the matplotlib figure\n",
    "figure, ax = plt.subplots(figsize=(20, 15))\n",
    "\n",
    "# Generate a custom diverging colormap\n",
    "cmap = sns.diverging_palette(50, 10, as_cmap=True)\n",
    "\n",
    "# Draw the heatmap with the mask and correct aspect ratio\n",
    "sns.heatmap(corr, cmap = cmap,vmax=1, center=0,\n",
    "            square=True, linewidths=.5, cbar_kws={\"shrink\": .5}, annot=True)"
   ]
  },
  {
   "cell_type": "markdown",
   "metadata": {},
   "source": [
    "### [Answers & Analysis to Question 2]\n",
    "#### * 0.0 - 1.0 scale: a value closer to 1 denotes two items are highly correlative\n",
    "#### * It's important to look at the very bottom line because it shows correlation with IncomeBracket\n",
    "#### * Almost all values in the correlation plot is very close to 0 which denotes that every column is quite independent to each other\n",
    "#### ** From the very bottom line, it turned out that 'Relationship' data is seemed to be the most related column to individual's Income Bracket\n"
   ]
  },
  {
   "cell_type": "markdown",
   "metadata": {},
   "source": [
    "## 3.Feature selection (10 marks):\n",
    "Create at least one additional feature that is not originally part of the dataset but is based on the original features of the dataset. Explain how feature engineering is a useful tool in machine learning. \n",
    "\n",
    "Then select the features to be used for analysis either manually or through some feature selection algorithm \n",
    "(e.g. regularized regression). \n",
    "\n",
    "Not all features need to be used; features can be removed or added as desired although the same set of"
   ]
  },
  {
   "cell_type": "code",
   "execution_count": 46,
   "metadata": {},
   "outputs": [
    {
     "data": {
      "text/html": [
       "<div>\n",
       "<style>\n",
       "    .dataframe thead tr:only-child th {\n",
       "        text-align: right;\n",
       "    }\n",
       "\n",
       "    .dataframe thead th {\n",
       "        text-align: left;\n",
       "    }\n",
       "\n",
       "    .dataframe tbody tr th {\n",
       "        vertical-align: top;\n",
       "    }\n",
       "</style>\n",
       "<table border=\"1\" class=\"dataframe\">\n",
       "  <thead>\n",
       "    <tr style=\"text-align: right;\">\n",
       "      <th></th>\n",
       "      <th>Age</th>\n",
       "      <th>WorkClass</th>\n",
       "      <th>FinalWeight</th>\n",
       "      <th>Education</th>\n",
       "      <th>EducationLvl</th>\n",
       "      <th>MaritalStatus</th>\n",
       "      <th>Occupation</th>\n",
       "      <th>Relationship</th>\n",
       "      <th>Race</th>\n",
       "      <th>Sex</th>\n",
       "      <th>CapitalGain</th>\n",
       "      <th>CapitalLoss</th>\n",
       "      <th>HoursPerWeek</th>\n",
       "      <th>NativeCountry</th>\n",
       "      <th>IncomeBracket</th>\n",
       "    </tr>\n",
       "  </thead>\n",
       "  <tbody>\n",
       "  </tbody>\n",
       "</table>\n",
       "</div>"
      ],
      "text/plain": [
       "Empty DataFrame\n",
       "Columns: [Age, WorkClass, FinalWeight, Education, EducationLvl, MaritalStatus, Occupation, Relationship, Race, Sex, CapitalGain, CapitalLoss, HoursPerWeek, NativeCountry, IncomeBracket]\n",
       "Index: []"
      ]
     },
     "execution_count": 46,
     "metadata": {},
     "output_type": "execute_result"
    }
   ],
   "source": [
    "# Reload the train, test data for data preprocessing\n",
    "train = pd.read_csv('income-training.csv')\n",
    "test = pd.read_csv('income-testing.csv')\n",
    "\n",
    "# filling empty cells in 'WorkClass' column with its mode value\n",
    "train.loc[pd.isnull(train['WorkClass']),'WorkClass'] = 'Private'\n",
    "train.loc[pd.isnull(train['WorkClass'])]\n",
    "# Do the same process for model training purpose\n",
    "test.loc[pd.isnull(test['WorkClass']),'WorkClass'] = 'Private'\n",
    "test.loc[pd.isnull(test['WorkClass'])]\n",
    "\n",
    "# Remove empty cells in Occupation columns\n",
    "train = train[~pd.isnull(train['Occupation'])]\n",
    "train[train['Occupation'].isnull()]\n",
    "test = test[~pd.isnull(test['Occupation'])]\n",
    "test[test['Occupation'].isnull()]\n",
    "\n",
    "# NativeCountry column has dominant value counts in 'United-States'\n",
    "# Therefore,empty cells were filled with its mode value\n",
    "train.loc[pd.isnull(train['NativeCountry']),'NativeCountry'] = 'United-States'\n",
    "train.loc[pd.isnull(train['NativeCountry'])]\n",
    "test.loc[pd.isnull(test['NativeCountry']),'NativeCountry'] = 'United-States'\n",
    "test.loc[pd.isnull(test['NativeCountry'])]"
   ]
  },
  {
   "cell_type": "code",
   "execution_count": 47,
   "metadata": {},
   "outputs": [
    {
     "data": {
      "text/plain": [
       "0    1\n",
       "1    1\n",
       "2    1\n",
       "3    1\n",
       "4    1\n",
       "Name: CountryType, dtype: int64"
      ]
     },
     "execution_count": 47,
     "metadata": {},
     "output_type": "execute_result"
    }
   ],
   "source": [
    "# Creating New feature column:  'CountryType'\n",
    "# Since United-States has absoulte dominance in counts, \n",
    "# I decided to make binary group which is divided into either United-States or Others\n",
    "# United-State = 1\n",
    "# Others = 0\n",
    "def country(country):\n",
    "    if country == 'United-States':\n",
    "        country = 1\n",
    "    else:\n",
    "        country = 0\n",
    "    \n",
    "    return country\n",
    "\n",
    "train['CountryType'] = train['NativeCountry'].apply(country)\n",
    "test['CountryType'] = test['NativeCountry'].apply(country)\n",
    "train['CountryType'].head()"
   ]
  },
  {
   "cell_type": "code",
   "execution_count": 48,
   "metadata": {
    "collapsed": true
   },
   "outputs": [],
   "source": [
    "# Same logic applies to 'Race' column\n",
    "# Created another one-hot encoded column for Race: 'RaceType'\n",
    "# White = 1\n",
    "# others = 0\n",
    "def race(race):\n",
    "    if race =='White':\n",
    "        return 1\n",
    "    else:\n",
    "        return 0\n",
    "    \n",
    "train['RaceType'] = train['Race'].apply(race)\n",
    "test['RaceType'] = test['Race'].apply(race)"
   ]
  },
  {
   "cell_type": "code",
   "execution_count": 49,
   "metadata": {},
   "outputs": [
    {
     "data": {
      "text/plain": [
       "1    19771\n",
       "0     3260\n",
       "Name: RaceType, dtype: int64"
      ]
     },
     "execution_count": 49,
     "metadata": {},
     "output_type": "execute_result"
    }
   ],
   "source": [
    "train['RaceType'].value_counts()"
   ]
  },
  {
   "cell_type": "code",
   "execution_count": 50,
   "metadata": {},
   "outputs": [
    {
     "data": {
      "text/plain": [
       "0    15594\n",
       "1     7437\n",
       "Name: Sex, dtype: int64"
      ]
     },
     "execution_count": 50,
     "metadata": {},
     "output_type": "execute_result"
    }
   ],
   "source": [
    "# Same logic applies to 'Sex' column\n",
    "# Male = 1\n",
    "# Female = 0\n",
    "\n",
    "def sex(sex):\n",
    "    if sex =='Male':\n",
    "        return 0\n",
    "    else:\n",
    "        return 1\n",
    "    \n",
    "        \n",
    "train['Sex'] = train['Sex'].apply(sex)\n",
    "test['Sex'] = test['Sex'].apply(sex)\n",
    "    \n",
    "train['Sex'].value_counts()"
   ]
  },
  {
   "cell_type": "code",
   "execution_count": 51,
   "metadata": {
    "collapsed": true
   },
   "outputs": [],
   "source": [
    "# Creating One-hot encoded features of 'Occupation' and 'Relationship'\n",
    "one_hot_relation_train = pd.get_dummies(train[\"Relationship\"], prefix = 'Relation')\n",
    "one_hot_job_train = pd.get_dummies(train[\"Occupation\"], prefix = 'Job')"
   ]
  },
  {
   "cell_type": "code",
   "execution_count": 53,
   "metadata": {},
   "outputs": [
    {
     "data": {
      "text/plain": [
       "Index(['Relation_Husband', 'Relation_Not-in-family', 'Relation_Other-relative',\n",
       "       'Relation_Own-child', 'Relation_Unmarried', 'Relation_Wife',\n",
       "       'Job_Adm-clerical', 'Job_Armed-Forces', 'Job_Craft-repair',\n",
       "       'Job_Exec-managerial', 'Job_Farming-fishing', 'Job_Handlers-cleaners',\n",
       "       'Job_Machine-op-inspct', 'Job_Other-service', 'Job_Priv-house-serv',\n",
       "       'Job_Prof-specialty', 'Job_Protective-serv', 'Job_Sales',\n",
       "       'Job_Tech-support', 'Job_Transport-moving'],\n",
       "      dtype='object')"
      ]
     },
     "execution_count": 53,
     "metadata": {},
     "output_type": "execute_result"
    }
   ],
   "source": [
    "# pd.get_dummies creates separate Dataframe for onehot encoded data\n",
    "# Therefore, the dataframe needs to be concatenated to original train & test dataset\n",
    "# First, concatenate one-hot encoded dataframes of 'Occupation' and 'Relationship'\n",
    "# Second, concatenate to train & test data\n",
    "onehot = pd.concat([one_hot_relation_train,one_hot_job_train], axis =1)\n",
    "onehot\n",
    "\n",
    "onehot_cols = onehot.columns\n",
    "onehot_cols"
   ]
  },
  {
   "cell_type": "code",
   "execution_count": 54,
   "metadata": {},
   "outputs": [
    {
     "data": {
      "text/plain": [
       "Index(['Age', 'WorkClass', 'FinalWeight', 'Education', 'EducationLvl',\n",
       "       'MaritalStatus', 'Occupation', 'Relationship', 'Race', 'Sex',\n",
       "       'CapitalGain', 'CapitalLoss', 'HoursPerWeek', 'NativeCountry',\n",
       "       'IncomeBracket', 'CountryType', 'RaceType', 'Relation_Husband',\n",
       "       'Relation_Not-in-family', 'Relation_Other-relative',\n",
       "       'Relation_Own-child', 'Relation_Unmarried', 'Relation_Wife',\n",
       "       'Job_Adm-clerical', 'Job_Armed-Forces', 'Job_Craft-repair',\n",
       "       'Job_Exec-managerial', 'Job_Farming-fishing', 'Job_Handlers-cleaners',\n",
       "       'Job_Machine-op-inspct', 'Job_Other-service', 'Job_Priv-house-serv',\n",
       "       'Job_Prof-specialty', 'Job_Protective-serv', 'Job_Sales',\n",
       "       'Job_Tech-support', 'Job_Transport-moving'],\n",
       "      dtype='object')"
      ]
     },
     "execution_count": 54,
     "metadata": {},
     "output_type": "execute_result"
    }
   ],
   "source": [
    "train = pd.concat([train, onehot], axis=1)\n",
    "train.columns"
   ]
  },
  {
   "cell_type": "code",
   "execution_count": 55,
   "metadata": {
    "collapsed": true
   },
   "outputs": [],
   "source": [
    "# The exact same procedure for Test data\n",
    "one_hot_relation_test = pd.get_dummies(test[\"Relationship\"], prefix = 'Relation')\n",
    "one_hot_job_test = pd.get_dummies(test[\"Occupation\"], prefix = 'Job')"
   ]
  },
  {
   "cell_type": "code",
   "execution_count": 56,
   "metadata": {},
   "outputs": [
    {
     "data": {
      "text/plain": [
       "Index(['Relation_Husband', 'Relation_Not-in-family', 'Relation_Other-relative',\n",
       "       'Relation_Own-child', 'Relation_Unmarried', 'Relation_Wife',\n",
       "       'Job_Adm-clerical', 'Job_Armed-Forces', 'Job_Craft-repair',\n",
       "       'Job_Exec-managerial', 'Job_Farming-fishing', 'Job_Handlers-cleaners',\n",
       "       'Job_Machine-op-inspct', 'Job_Other-service', 'Job_Priv-house-serv',\n",
       "       'Job_Prof-specialty', 'Job_Protective-serv', 'Job_Sales',\n",
       "       'Job_Tech-support', 'Job_Transport-moving'],\n",
       "      dtype='object')"
      ]
     },
     "execution_count": 56,
     "metadata": {},
     "output_type": "execute_result"
    }
   ],
   "source": [
    "onehot_test = pd.concat([one_hot_relation_test,one_hot_job_test], axis =1)\n",
    "onehot_test\n",
    "\n",
    "onehot_cols_test = onehot_test.columns\n",
    "onehot_cols_test"
   ]
  },
  {
   "cell_type": "code",
   "execution_count": 57,
   "metadata": {},
   "outputs": [
    {
     "data": {
      "text/plain": [
       "Index(['Age', 'WorkClass', 'FinalWeight', 'Education', 'EducationLvl',\n",
       "       'MaritalStatus', 'Occupation', 'Relationship', 'Race', 'Sex',\n",
       "       'CapitalGain', 'CapitalLoss', 'HoursPerWeek', 'NativeCountry',\n",
       "       'IncomeBracket', 'CountryType', 'RaceType', 'Relation_Husband',\n",
       "       'Relation_Not-in-family', 'Relation_Other-relative',\n",
       "       'Relation_Own-child', 'Relation_Unmarried', 'Relation_Wife',\n",
       "       'Job_Adm-clerical', 'Job_Armed-Forces', 'Job_Craft-repair',\n",
       "       'Job_Exec-managerial', 'Job_Farming-fishing', 'Job_Handlers-cleaners',\n",
       "       'Job_Machine-op-inspct', 'Job_Other-service', 'Job_Priv-house-serv',\n",
       "       'Job_Prof-specialty', 'Job_Protective-serv', 'Job_Sales',\n",
       "       'Job_Tech-support', 'Job_Transport-moving'],\n",
       "      dtype='object')"
      ]
     },
     "execution_count": 57,
     "metadata": {},
     "output_type": "execute_result"
    }
   ],
   "source": [
    "test = pd.concat([test, onehot_test], axis=1)\n",
    "test.columns"
   ]
  },
  {
   "cell_type": "code",
   "execution_count": 58,
   "metadata": {},
   "outputs": [
    {
     "data": {
      "text/html": [
       "<div>\n",
       "<style>\n",
       "    .dataframe thead tr:only-child th {\n",
       "        text-align: right;\n",
       "    }\n",
       "\n",
       "    .dataframe thead th {\n",
       "        text-align: left;\n",
       "    }\n",
       "\n",
       "    .dataframe tbody tr th {\n",
       "        vertical-align: top;\n",
       "    }\n",
       "</style>\n",
       "<table border=\"1\" class=\"dataframe\">\n",
       "  <thead>\n",
       "    <tr style=\"text-align: right;\">\n",
       "      <th></th>\n",
       "      <th>Age</th>\n",
       "      <th>WorkClass</th>\n",
       "      <th>FinalWeight</th>\n",
       "      <th>Education</th>\n",
       "      <th>EducationLvl</th>\n",
       "      <th>MaritalStatus</th>\n",
       "      <th>Occupation</th>\n",
       "      <th>Relationship</th>\n",
       "      <th>Race</th>\n",
       "      <th>Sex</th>\n",
       "      <th>...</th>\n",
       "      <th>Job_Farming-fishing</th>\n",
       "      <th>Job_Handlers-cleaners</th>\n",
       "      <th>Job_Machine-op-inspct</th>\n",
       "      <th>Job_Other-service</th>\n",
       "      <th>Job_Priv-house-serv</th>\n",
       "      <th>Job_Prof-specialty</th>\n",
       "      <th>Job_Protective-serv</th>\n",
       "      <th>Job_Sales</th>\n",
       "      <th>Job_Tech-support</th>\n",
       "      <th>Job_Transport-moving</th>\n",
       "    </tr>\n",
       "  </thead>\n",
       "  <tbody>\n",
       "    <tr>\n",
       "      <th>0</th>\n",
       "      <td>42</td>\n",
       "      <td>State-gov</td>\n",
       "      <td>179151</td>\n",
       "      <td>Some-college</td>\n",
       "      <td>10</td>\n",
       "      <td>Married-civ-spouse</td>\n",
       "      <td>Farming-fishing</td>\n",
       "      <td>Husband</td>\n",
       "      <td>White</td>\n",
       "      <td>0</td>\n",
       "      <td>...</td>\n",
       "      <td>1</td>\n",
       "      <td>0</td>\n",
       "      <td>0</td>\n",
       "      <td>0</td>\n",
       "      <td>0</td>\n",
       "      <td>0</td>\n",
       "      <td>0</td>\n",
       "      <td>0</td>\n",
       "      <td>0</td>\n",
       "      <td>0</td>\n",
       "    </tr>\n",
       "    <tr>\n",
       "      <th>1</th>\n",
       "      <td>28</td>\n",
       "      <td>Private</td>\n",
       "      <td>68021</td>\n",
       "      <td>Some-college</td>\n",
       "      <td>10</td>\n",
       "      <td>Never-married</td>\n",
       "      <td>Other-service</td>\n",
       "      <td>Not-in-family</td>\n",
       "      <td>White</td>\n",
       "      <td>1</td>\n",
       "      <td>...</td>\n",
       "      <td>0</td>\n",
       "      <td>0</td>\n",
       "      <td>0</td>\n",
       "      <td>1</td>\n",
       "      <td>0</td>\n",
       "      <td>0</td>\n",
       "      <td>0</td>\n",
       "      <td>0</td>\n",
       "      <td>0</td>\n",
       "      <td>0</td>\n",
       "    </tr>\n",
       "    <tr>\n",
       "      <th>2</th>\n",
       "      <td>24</td>\n",
       "      <td>Private</td>\n",
       "      <td>233499</td>\n",
       "      <td>Some-college</td>\n",
       "      <td>10</td>\n",
       "      <td>Married-civ-spouse</td>\n",
       "      <td>Transport-moving</td>\n",
       "      <td>Husband</td>\n",
       "      <td>White</td>\n",
       "      <td>0</td>\n",
       "      <td>...</td>\n",
       "      <td>0</td>\n",
       "      <td>0</td>\n",
       "      <td>0</td>\n",
       "      <td>0</td>\n",
       "      <td>0</td>\n",
       "      <td>0</td>\n",
       "      <td>0</td>\n",
       "      <td>0</td>\n",
       "      <td>0</td>\n",
       "      <td>1</td>\n",
       "    </tr>\n",
       "    <tr>\n",
       "      <th>3</th>\n",
       "      <td>32</td>\n",
       "      <td>Self-emp-not-inc</td>\n",
       "      <td>168782</td>\n",
       "      <td>9th</td>\n",
       "      <td>5</td>\n",
       "      <td>Married-civ-spouse</td>\n",
       "      <td>Craft-repair</td>\n",
       "      <td>Husband</td>\n",
       "      <td>White</td>\n",
       "      <td>0</td>\n",
       "      <td>...</td>\n",
       "      <td>0</td>\n",
       "      <td>0</td>\n",
       "      <td>0</td>\n",
       "      <td>0</td>\n",
       "      <td>0</td>\n",
       "      <td>0</td>\n",
       "      <td>0</td>\n",
       "      <td>0</td>\n",
       "      <td>0</td>\n",
       "      <td>0</td>\n",
       "    </tr>\n",
       "    <tr>\n",
       "      <th>4</th>\n",
       "      <td>55</td>\n",
       "      <td>Self-emp-not-inc</td>\n",
       "      <td>105582</td>\n",
       "      <td>Masters</td>\n",
       "      <td>14</td>\n",
       "      <td>Married-civ-spouse</td>\n",
       "      <td>Sales</td>\n",
       "      <td>Husband</td>\n",
       "      <td>White</td>\n",
       "      <td>0</td>\n",
       "      <td>...</td>\n",
       "      <td>0</td>\n",
       "      <td>0</td>\n",
       "      <td>0</td>\n",
       "      <td>0</td>\n",
       "      <td>0</td>\n",
       "      <td>0</td>\n",
       "      <td>0</td>\n",
       "      <td>1</td>\n",
       "      <td>0</td>\n",
       "      <td>0</td>\n",
       "    </tr>\n",
       "  </tbody>\n",
       "</table>\n",
       "<p>5 rows × 37 columns</p>\n",
       "</div>"
      ],
      "text/plain": [
       "   Age         WorkClass  FinalWeight     Education  EducationLvl  \\\n",
       "0   42         State-gov       179151  Some-college            10   \n",
       "1   28           Private        68021  Some-college            10   \n",
       "2   24           Private       233499  Some-college            10   \n",
       "3   32  Self-emp-not-inc       168782           9th             5   \n",
       "4   55  Self-emp-not-inc       105582       Masters            14   \n",
       "\n",
       "        MaritalStatus        Occupation   Relationship   Race  Sex  \\\n",
       "0  Married-civ-spouse   Farming-fishing        Husband  White    0   \n",
       "1       Never-married     Other-service  Not-in-family  White    1   \n",
       "2  Married-civ-spouse  Transport-moving        Husband  White    0   \n",
       "3  Married-civ-spouse      Craft-repair        Husband  White    0   \n",
       "4  Married-civ-spouse             Sales        Husband  White    0   \n",
       "\n",
       "           ...           Job_Farming-fishing  Job_Handlers-cleaners  \\\n",
       "0          ...                             1                      0   \n",
       "1          ...                             0                      0   \n",
       "2          ...                             0                      0   \n",
       "3          ...                             0                      0   \n",
       "4          ...                             0                      0   \n",
       "\n",
       "   Job_Machine-op-inspct Job_Other-service Job_Priv-house-serv  \\\n",
       "0                      0                 0                   0   \n",
       "1                      0                 1                   0   \n",
       "2                      0                 0                   0   \n",
       "3                      0                 0                   0   \n",
       "4                      0                 0                   0   \n",
       "\n",
       "   Job_Prof-specialty  Job_Protective-serv  Job_Sales  Job_Tech-support  \\\n",
       "0                   0                    0          0                 0   \n",
       "1                   0                    0          0                 0   \n",
       "2                   0                    0          0                 0   \n",
       "3                   0                    0          0                 0   \n",
       "4                   0                    0          1                 0   \n",
       "\n",
       "   Job_Transport-moving  \n",
       "0                     0  \n",
       "1                     0  \n",
       "2                     1  \n",
       "3                     0  \n",
       "4                     0  \n",
       "\n",
       "[5 rows x 37 columns]"
      ]
     },
     "execution_count": 58,
     "metadata": {},
     "output_type": "execute_result"
    }
   ],
   "source": [
    "# Check Train & Test data with newly added features\n",
    "train.head()"
   ]
  },
  {
   "cell_type": "code",
   "execution_count": 59,
   "metadata": {},
   "outputs": [
    {
     "data": {
      "text/html": [
       "<div>\n",
       "<style>\n",
       "    .dataframe thead tr:only-child th {\n",
       "        text-align: right;\n",
       "    }\n",
       "\n",
       "    .dataframe thead th {\n",
       "        text-align: left;\n",
       "    }\n",
       "\n",
       "    .dataframe tbody tr th {\n",
       "        vertical-align: top;\n",
       "    }\n",
       "</style>\n",
       "<table border=\"1\" class=\"dataframe\">\n",
       "  <thead>\n",
       "    <tr style=\"text-align: right;\">\n",
       "      <th></th>\n",
       "      <th>Age</th>\n",
       "      <th>WorkClass</th>\n",
       "      <th>FinalWeight</th>\n",
       "      <th>Education</th>\n",
       "      <th>EducationLvl</th>\n",
       "      <th>MaritalStatus</th>\n",
       "      <th>Occupation</th>\n",
       "      <th>Relationship</th>\n",
       "      <th>Race</th>\n",
       "      <th>Sex</th>\n",
       "      <th>...</th>\n",
       "      <th>Job_Farming-fishing</th>\n",
       "      <th>Job_Handlers-cleaners</th>\n",
       "      <th>Job_Machine-op-inspct</th>\n",
       "      <th>Job_Other-service</th>\n",
       "      <th>Job_Priv-house-serv</th>\n",
       "      <th>Job_Prof-specialty</th>\n",
       "      <th>Job_Protective-serv</th>\n",
       "      <th>Job_Sales</th>\n",
       "      <th>Job_Tech-support</th>\n",
       "      <th>Job_Transport-moving</th>\n",
       "    </tr>\n",
       "  </thead>\n",
       "  <tbody>\n",
       "    <tr>\n",
       "      <th>0</th>\n",
       "      <td>57</td>\n",
       "      <td>Self-emp-not-inc</td>\n",
       "      <td>152030</td>\n",
       "      <td>Some-college</td>\n",
       "      <td>10</td>\n",
       "      <td>Married-civ-spouse</td>\n",
       "      <td>Sales</td>\n",
       "      <td>Wife</td>\n",
       "      <td>White</td>\n",
       "      <td>1</td>\n",
       "      <td>...</td>\n",
       "      <td>0</td>\n",
       "      <td>0</td>\n",
       "      <td>0</td>\n",
       "      <td>0</td>\n",
       "      <td>0</td>\n",
       "      <td>0</td>\n",
       "      <td>0</td>\n",
       "      <td>1</td>\n",
       "      <td>0</td>\n",
       "      <td>0</td>\n",
       "    </tr>\n",
       "    <tr>\n",
       "      <th>1</th>\n",
       "      <td>35</td>\n",
       "      <td>Private</td>\n",
       "      <td>341643</td>\n",
       "      <td>Bachelors</td>\n",
       "      <td>13</td>\n",
       "      <td>Never-married</td>\n",
       "      <td>Other-service</td>\n",
       "      <td>Other-relative</td>\n",
       "      <td>White</td>\n",
       "      <td>0</td>\n",
       "      <td>...</td>\n",
       "      <td>0</td>\n",
       "      <td>0</td>\n",
       "      <td>0</td>\n",
       "      <td>1</td>\n",
       "      <td>0</td>\n",
       "      <td>0</td>\n",
       "      <td>0</td>\n",
       "      <td>0</td>\n",
       "      <td>0</td>\n",
       "      <td>0</td>\n",
       "    </tr>\n",
       "    <tr>\n",
       "      <th>2</th>\n",
       "      <td>26</td>\n",
       "      <td>Private</td>\n",
       "      <td>40915</td>\n",
       "      <td>Bachelors</td>\n",
       "      <td>13</td>\n",
       "      <td>Never-married</td>\n",
       "      <td>Other-service</td>\n",
       "      <td>Not-in-family</td>\n",
       "      <td>White</td>\n",
       "      <td>1</td>\n",
       "      <td>...</td>\n",
       "      <td>0</td>\n",
       "      <td>0</td>\n",
       "      <td>0</td>\n",
       "      <td>1</td>\n",
       "      <td>0</td>\n",
       "      <td>0</td>\n",
       "      <td>0</td>\n",
       "      <td>0</td>\n",
       "      <td>0</td>\n",
       "      <td>0</td>\n",
       "    </tr>\n",
       "    <tr>\n",
       "      <th>3</th>\n",
       "      <td>27</td>\n",
       "      <td>Federal-gov</td>\n",
       "      <td>257124</td>\n",
       "      <td>Bachelors</td>\n",
       "      <td>13</td>\n",
       "      <td>Never-married</td>\n",
       "      <td>Transport-moving</td>\n",
       "      <td>Other-relative</td>\n",
       "      <td>White</td>\n",
       "      <td>0</td>\n",
       "      <td>...</td>\n",
       "      <td>0</td>\n",
       "      <td>0</td>\n",
       "      <td>0</td>\n",
       "      <td>0</td>\n",
       "      <td>0</td>\n",
       "      <td>0</td>\n",
       "      <td>0</td>\n",
       "      <td>0</td>\n",
       "      <td>0</td>\n",
       "      <td>1</td>\n",
       "    </tr>\n",
       "    <tr>\n",
       "      <th>4</th>\n",
       "      <td>21</td>\n",
       "      <td>Private</td>\n",
       "      <td>256278</td>\n",
       "      <td>HS-grad</td>\n",
       "      <td>9</td>\n",
       "      <td>Never-married</td>\n",
       "      <td>Other-service</td>\n",
       "      <td>Other-relative</td>\n",
       "      <td>Other</td>\n",
       "      <td>1</td>\n",
       "      <td>...</td>\n",
       "      <td>0</td>\n",
       "      <td>0</td>\n",
       "      <td>0</td>\n",
       "      <td>1</td>\n",
       "      <td>0</td>\n",
       "      <td>0</td>\n",
       "      <td>0</td>\n",
       "      <td>0</td>\n",
       "      <td>0</td>\n",
       "      <td>0</td>\n",
       "    </tr>\n",
       "  </tbody>\n",
       "</table>\n",
       "<p>5 rows × 37 columns</p>\n",
       "</div>"
      ],
      "text/plain": [
       "   Age         WorkClass  FinalWeight     Education  EducationLvl  \\\n",
       "0   57  Self-emp-not-inc       152030  Some-college            10   \n",
       "1   35           Private       341643     Bachelors            13   \n",
       "2   26           Private        40915     Bachelors            13   \n",
       "3   27       Federal-gov       257124     Bachelors            13   \n",
       "4   21           Private       256278       HS-grad             9   \n",
       "\n",
       "        MaritalStatus        Occupation    Relationship   Race  Sex  \\\n",
       "0  Married-civ-spouse             Sales            Wife  White    1   \n",
       "1       Never-married     Other-service  Other-relative  White    0   \n",
       "2       Never-married     Other-service   Not-in-family  White    1   \n",
       "3       Never-married  Transport-moving  Other-relative  White    0   \n",
       "4       Never-married     Other-service  Other-relative  Other    1   \n",
       "\n",
       "           ...           Job_Farming-fishing  Job_Handlers-cleaners  \\\n",
       "0          ...                             0                      0   \n",
       "1          ...                             0                      0   \n",
       "2          ...                             0                      0   \n",
       "3          ...                             0                      0   \n",
       "4          ...                             0                      0   \n",
       "\n",
       "   Job_Machine-op-inspct Job_Other-service Job_Priv-house-serv  \\\n",
       "0                      0                 0                   0   \n",
       "1                      0                 1                   0   \n",
       "2                      0                 1                   0   \n",
       "3                      0                 0                   0   \n",
       "4                      0                 1                   0   \n",
       "\n",
       "   Job_Prof-specialty  Job_Protective-serv  Job_Sales  Job_Tech-support  \\\n",
       "0                   0                    0          1                 0   \n",
       "1                   0                    0          0                 0   \n",
       "2                   0                    0          0                 0   \n",
       "3                   0                    0          0                 0   \n",
       "4                   0                    0          0                 0   \n",
       "\n",
       "   Job_Transport-moving  \n",
       "0                     0  \n",
       "1                     0  \n",
       "2                     0  \n",
       "3                     1  \n",
       "4                     0  \n",
       "\n",
       "[5 rows x 37 columns]"
      ]
     },
     "execution_count": 59,
     "metadata": {},
     "output_type": "execute_result"
    }
   ],
   "source": [
    "# Check Train & Test data with newly added features\n",
    "test.head()"
   ]
  },
  {
   "cell_type": "code",
   "execution_count": 60,
   "metadata": {
    "collapsed": true
   },
   "outputs": [],
   "source": [
    "# Lastly, encode the target variable which is 'IncomeBracket'\n",
    "train.loc[train['IncomeBracket']=='<50K', 'IncomeBracket'] = 3\n",
    "train.loc[train['IncomeBracket']=='50-100K', 'IncomeBracket'] = 2\n",
    "train.loc[train['IncomeBracket']=='>100K', 'IncomeBracket'] = 1\n",
    "\n",
    "test.loc[test['IncomeBracket']=='<50K', 'IncomeBracket'] = 3\n",
    "test.loc[test['IncomeBracket']=='50-100K', 'IncomeBracket'] = 2\n",
    "test.loc[test['IncomeBracket']=='>100K', 'IncomeBracket'] = 1"
   ]
  },
  {
   "cell_type": "code",
   "execution_count": 61,
   "metadata": {
    "collapsed": true
   },
   "outputs": [],
   "source": [
    "train['IncomeBracket'] = train['IncomeBracket'].astype(int)\n",
    "test['IncomeBracket'] = test['IncomeBracket'].astype(int)"
   ]
  },
  {
   "cell_type": "code",
   "execution_count": 62,
   "metadata": {},
   "outputs": [
    {
     "data": {
      "text/plain": [
       "['Age',\n",
       " 'Sex',\n",
       " 'CountryType',\n",
       " 'EducationLvl',\n",
       " 'RaceType',\n",
       " 'Relation_Husband',\n",
       " 'Relation_Not-in-family',\n",
       " 'Relation_Other-relative',\n",
       " 'Relation_Own-child',\n",
       " 'Relation_Unmarried',\n",
       " 'Relation_Wife',\n",
       " 'Job_Adm-clerical',\n",
       " 'Job_Armed-Forces',\n",
       " 'Job_Craft-repair',\n",
       " 'Job_Exec-managerial',\n",
       " 'Job_Farming-fishing',\n",
       " 'Job_Handlers-cleaners',\n",
       " 'Job_Machine-op-inspct',\n",
       " 'Job_Other-service',\n",
       " 'Job_Priv-house-serv',\n",
       " 'Job_Prof-specialty',\n",
       " 'Job_Protective-serv',\n",
       " 'Job_Sales',\n",
       " 'Job_Tech-support',\n",
       " 'Job_Transport-moving']"
      ]
     },
     "execution_count": 62,
     "metadata": {},
     "output_type": "execute_result"
    }
   ],
   "source": [
    "# creating final list of features for training\n",
    "feature_names = ['Age','Sex','CountryType','EducationLvl','RaceType']\n",
    "# onehot_cols: includes onehot encoded data of 'Occupation' and 'Relationship'\n",
    "feature_names = feature_names + list(onehot_cols)\n",
    "feature_names"
   ]
  },
  {
   "cell_type": "code",
   "execution_count": 63,
   "metadata": {},
   "outputs": [
    {
     "name": "stdout",
     "output_type": "stream",
     "text": [
      "(23031, 25)\n"
     ]
    },
    {
     "data": {
      "text/html": [
       "<div>\n",
       "<style>\n",
       "    .dataframe thead tr:only-child th {\n",
       "        text-align: right;\n",
       "    }\n",
       "\n",
       "    .dataframe thead th {\n",
       "        text-align: left;\n",
       "    }\n",
       "\n",
       "    .dataframe tbody tr th {\n",
       "        vertical-align: top;\n",
       "    }\n",
       "</style>\n",
       "<table border=\"1\" class=\"dataframe\">\n",
       "  <thead>\n",
       "    <tr style=\"text-align: right;\">\n",
       "      <th></th>\n",
       "      <th>Age</th>\n",
       "      <th>Sex</th>\n",
       "      <th>CountryType</th>\n",
       "      <th>EducationLvl</th>\n",
       "      <th>RaceType</th>\n",
       "      <th>Relation_Husband</th>\n",
       "      <th>Relation_Not-in-family</th>\n",
       "      <th>Relation_Other-relative</th>\n",
       "      <th>Relation_Own-child</th>\n",
       "      <th>Relation_Unmarried</th>\n",
       "      <th>...</th>\n",
       "      <th>Job_Farming-fishing</th>\n",
       "      <th>Job_Handlers-cleaners</th>\n",
       "      <th>Job_Machine-op-inspct</th>\n",
       "      <th>Job_Other-service</th>\n",
       "      <th>Job_Priv-house-serv</th>\n",
       "      <th>Job_Prof-specialty</th>\n",
       "      <th>Job_Protective-serv</th>\n",
       "      <th>Job_Sales</th>\n",
       "      <th>Job_Tech-support</th>\n",
       "      <th>Job_Transport-moving</th>\n",
       "    </tr>\n",
       "  </thead>\n",
       "  <tbody>\n",
       "    <tr>\n",
       "      <th>0</th>\n",
       "      <td>42</td>\n",
       "      <td>0</td>\n",
       "      <td>1</td>\n",
       "      <td>10</td>\n",
       "      <td>1</td>\n",
       "      <td>1</td>\n",
       "      <td>0</td>\n",
       "      <td>0</td>\n",
       "      <td>0</td>\n",
       "      <td>0</td>\n",
       "      <td>...</td>\n",
       "      <td>1</td>\n",
       "      <td>0</td>\n",
       "      <td>0</td>\n",
       "      <td>0</td>\n",
       "      <td>0</td>\n",
       "      <td>0</td>\n",
       "      <td>0</td>\n",
       "      <td>0</td>\n",
       "      <td>0</td>\n",
       "      <td>0</td>\n",
       "    </tr>\n",
       "    <tr>\n",
       "      <th>1</th>\n",
       "      <td>28</td>\n",
       "      <td>1</td>\n",
       "      <td>1</td>\n",
       "      <td>10</td>\n",
       "      <td>1</td>\n",
       "      <td>0</td>\n",
       "      <td>1</td>\n",
       "      <td>0</td>\n",
       "      <td>0</td>\n",
       "      <td>0</td>\n",
       "      <td>...</td>\n",
       "      <td>0</td>\n",
       "      <td>0</td>\n",
       "      <td>0</td>\n",
       "      <td>1</td>\n",
       "      <td>0</td>\n",
       "      <td>0</td>\n",
       "      <td>0</td>\n",
       "      <td>0</td>\n",
       "      <td>0</td>\n",
       "      <td>0</td>\n",
       "    </tr>\n",
       "    <tr>\n",
       "      <th>2</th>\n",
       "      <td>24</td>\n",
       "      <td>0</td>\n",
       "      <td>1</td>\n",
       "      <td>10</td>\n",
       "      <td>1</td>\n",
       "      <td>1</td>\n",
       "      <td>0</td>\n",
       "      <td>0</td>\n",
       "      <td>0</td>\n",
       "      <td>0</td>\n",
       "      <td>...</td>\n",
       "      <td>0</td>\n",
       "      <td>0</td>\n",
       "      <td>0</td>\n",
       "      <td>0</td>\n",
       "      <td>0</td>\n",
       "      <td>0</td>\n",
       "      <td>0</td>\n",
       "      <td>0</td>\n",
       "      <td>0</td>\n",
       "      <td>1</td>\n",
       "    </tr>\n",
       "    <tr>\n",
       "      <th>3</th>\n",
       "      <td>32</td>\n",
       "      <td>0</td>\n",
       "      <td>1</td>\n",
       "      <td>5</td>\n",
       "      <td>1</td>\n",
       "      <td>1</td>\n",
       "      <td>0</td>\n",
       "      <td>0</td>\n",
       "      <td>0</td>\n",
       "      <td>0</td>\n",
       "      <td>...</td>\n",
       "      <td>0</td>\n",
       "      <td>0</td>\n",
       "      <td>0</td>\n",
       "      <td>0</td>\n",
       "      <td>0</td>\n",
       "      <td>0</td>\n",
       "      <td>0</td>\n",
       "      <td>0</td>\n",
       "      <td>0</td>\n",
       "      <td>0</td>\n",
       "    </tr>\n",
       "    <tr>\n",
       "      <th>4</th>\n",
       "      <td>55</td>\n",
       "      <td>0</td>\n",
       "      <td>1</td>\n",
       "      <td>14</td>\n",
       "      <td>1</td>\n",
       "      <td>1</td>\n",
       "      <td>0</td>\n",
       "      <td>0</td>\n",
       "      <td>0</td>\n",
       "      <td>0</td>\n",
       "      <td>...</td>\n",
       "      <td>0</td>\n",
       "      <td>0</td>\n",
       "      <td>0</td>\n",
       "      <td>0</td>\n",
       "      <td>0</td>\n",
       "      <td>0</td>\n",
       "      <td>0</td>\n",
       "      <td>1</td>\n",
       "      <td>0</td>\n",
       "      <td>0</td>\n",
       "    </tr>\n",
       "  </tbody>\n",
       "</table>\n",
       "<p>5 rows × 25 columns</p>\n",
       "</div>"
      ],
      "text/plain": [
       "   Age  Sex  CountryType  EducationLvl  RaceType  Relation_Husband  \\\n",
       "0   42    0            1            10         1                 1   \n",
       "1   28    1            1            10         1                 0   \n",
       "2   24    0            1            10         1                 1   \n",
       "3   32    0            1             5         1                 1   \n",
       "4   55    0            1            14         1                 1   \n",
       "\n",
       "   Relation_Not-in-family  Relation_Other-relative  Relation_Own-child  \\\n",
       "0                       0                        0                   0   \n",
       "1                       1                        0                   0   \n",
       "2                       0                        0                   0   \n",
       "3                       0                        0                   0   \n",
       "4                       0                        0                   0   \n",
       "\n",
       "   Relation_Unmarried          ...           Job_Farming-fishing  \\\n",
       "0                   0          ...                             1   \n",
       "1                   0          ...                             0   \n",
       "2                   0          ...                             0   \n",
       "3                   0          ...                             0   \n",
       "4                   0          ...                             0   \n",
       "\n",
       "   Job_Handlers-cleaners  Job_Machine-op-inspct  Job_Other-service  \\\n",
       "0                      0                      0                  0   \n",
       "1                      0                      0                  1   \n",
       "2                      0                      0                  0   \n",
       "3                      0                      0                  0   \n",
       "4                      0                      0                  0   \n",
       "\n",
       "   Job_Priv-house-serv  Job_Prof-specialty  Job_Protective-serv  Job_Sales  \\\n",
       "0                    0                   0                    0          0   \n",
       "1                    0                   0                    0          0   \n",
       "2                    0                   0                    0          0   \n",
       "3                    0                   0                    0          0   \n",
       "4                    0                   0                    0          1   \n",
       "\n",
       "   Job_Tech-support  Job_Transport-moving  \n",
       "0                 0                     0  \n",
       "1                 0                     0  \n",
       "2                 0                     1  \n",
       "3                 0                     0  \n",
       "4                 0                     0  \n",
       "\n",
       "[5 rows x 25 columns]"
      ]
     },
     "execution_count": 63,
     "metadata": {},
     "output_type": "execute_result"
    }
   ],
   "source": [
    "# Making training set, target variable set for both train & test data\n",
    "X_train = train[feature_names]\n",
    "print(X_train.shape)\n",
    "X_train.head()"
   ]
  },
  {
   "cell_type": "code",
   "execution_count": 64,
   "metadata": {},
   "outputs": [
    {
     "name": "stdout",
     "output_type": "stream",
     "text": [
      "(23031,)\n"
     ]
    },
    {
     "data": {
      "text/plain": [
       "0    3\n",
       "1    3\n",
       "2    2\n",
       "3    3\n",
       "4    3\n",
       "Name: IncomeBracket, dtype: int64"
      ]
     },
     "execution_count": 64,
     "metadata": {},
     "output_type": "execute_result"
    }
   ],
   "source": [
    "y_train = train[\"IncomeBracket\"]\n",
    "y_train\n",
    "print(y_train.shape)\n",
    "y_train.head()"
   ]
  },
  {
   "cell_type": "code",
   "execution_count": 65,
   "metadata": {},
   "outputs": [
    {
     "name": "stdout",
     "output_type": "stream",
     "text": [
      "(11521, 25)\n"
     ]
    },
    {
     "data": {
      "text/html": [
       "<div>\n",
       "<style>\n",
       "    .dataframe thead tr:only-child th {\n",
       "        text-align: right;\n",
       "    }\n",
       "\n",
       "    .dataframe thead th {\n",
       "        text-align: left;\n",
       "    }\n",
       "\n",
       "    .dataframe tbody tr th {\n",
       "        vertical-align: top;\n",
       "    }\n",
       "</style>\n",
       "<table border=\"1\" class=\"dataframe\">\n",
       "  <thead>\n",
       "    <tr style=\"text-align: right;\">\n",
       "      <th></th>\n",
       "      <th>Age</th>\n",
       "      <th>Sex</th>\n",
       "      <th>CountryType</th>\n",
       "      <th>EducationLvl</th>\n",
       "      <th>RaceType</th>\n",
       "      <th>Relation_Husband</th>\n",
       "      <th>Relation_Not-in-family</th>\n",
       "      <th>Relation_Other-relative</th>\n",
       "      <th>Relation_Own-child</th>\n",
       "      <th>Relation_Unmarried</th>\n",
       "      <th>...</th>\n",
       "      <th>Job_Farming-fishing</th>\n",
       "      <th>Job_Handlers-cleaners</th>\n",
       "      <th>Job_Machine-op-inspct</th>\n",
       "      <th>Job_Other-service</th>\n",
       "      <th>Job_Priv-house-serv</th>\n",
       "      <th>Job_Prof-specialty</th>\n",
       "      <th>Job_Protective-serv</th>\n",
       "      <th>Job_Sales</th>\n",
       "      <th>Job_Tech-support</th>\n",
       "      <th>Job_Transport-moving</th>\n",
       "    </tr>\n",
       "  </thead>\n",
       "  <tbody>\n",
       "    <tr>\n",
       "      <th>0</th>\n",
       "      <td>57</td>\n",
       "      <td>1</td>\n",
       "      <td>1</td>\n",
       "      <td>10</td>\n",
       "      <td>1</td>\n",
       "      <td>0</td>\n",
       "      <td>0</td>\n",
       "      <td>0</td>\n",
       "      <td>0</td>\n",
       "      <td>0</td>\n",
       "      <td>...</td>\n",
       "      <td>0</td>\n",
       "      <td>0</td>\n",
       "      <td>0</td>\n",
       "      <td>0</td>\n",
       "      <td>0</td>\n",
       "      <td>0</td>\n",
       "      <td>0</td>\n",
       "      <td>1</td>\n",
       "      <td>0</td>\n",
       "      <td>0</td>\n",
       "    </tr>\n",
       "    <tr>\n",
       "      <th>1</th>\n",
       "      <td>35</td>\n",
       "      <td>0</td>\n",
       "      <td>1</td>\n",
       "      <td>13</td>\n",
       "      <td>1</td>\n",
       "      <td>0</td>\n",
       "      <td>0</td>\n",
       "      <td>1</td>\n",
       "      <td>0</td>\n",
       "      <td>0</td>\n",
       "      <td>...</td>\n",
       "      <td>0</td>\n",
       "      <td>0</td>\n",
       "      <td>0</td>\n",
       "      <td>1</td>\n",
       "      <td>0</td>\n",
       "      <td>0</td>\n",
       "      <td>0</td>\n",
       "      <td>0</td>\n",
       "      <td>0</td>\n",
       "      <td>0</td>\n",
       "    </tr>\n",
       "    <tr>\n",
       "      <th>2</th>\n",
       "      <td>26</td>\n",
       "      <td>1</td>\n",
       "      <td>1</td>\n",
       "      <td>13</td>\n",
       "      <td>1</td>\n",
       "      <td>0</td>\n",
       "      <td>1</td>\n",
       "      <td>0</td>\n",
       "      <td>0</td>\n",
       "      <td>0</td>\n",
       "      <td>...</td>\n",
       "      <td>0</td>\n",
       "      <td>0</td>\n",
       "      <td>0</td>\n",
       "      <td>1</td>\n",
       "      <td>0</td>\n",
       "      <td>0</td>\n",
       "      <td>0</td>\n",
       "      <td>0</td>\n",
       "      <td>0</td>\n",
       "      <td>0</td>\n",
       "    </tr>\n",
       "    <tr>\n",
       "      <th>3</th>\n",
       "      <td>27</td>\n",
       "      <td>0</td>\n",
       "      <td>1</td>\n",
       "      <td>13</td>\n",
       "      <td>1</td>\n",
       "      <td>0</td>\n",
       "      <td>0</td>\n",
       "      <td>1</td>\n",
       "      <td>0</td>\n",
       "      <td>0</td>\n",
       "      <td>...</td>\n",
       "      <td>0</td>\n",
       "      <td>0</td>\n",
       "      <td>0</td>\n",
       "      <td>0</td>\n",
       "      <td>0</td>\n",
       "      <td>0</td>\n",
       "      <td>0</td>\n",
       "      <td>0</td>\n",
       "      <td>0</td>\n",
       "      <td>1</td>\n",
       "    </tr>\n",
       "    <tr>\n",
       "      <th>4</th>\n",
       "      <td>21</td>\n",
       "      <td>1</td>\n",
       "      <td>0</td>\n",
       "      <td>9</td>\n",
       "      <td>0</td>\n",
       "      <td>0</td>\n",
       "      <td>0</td>\n",
       "      <td>1</td>\n",
       "      <td>0</td>\n",
       "      <td>0</td>\n",
       "      <td>...</td>\n",
       "      <td>0</td>\n",
       "      <td>0</td>\n",
       "      <td>0</td>\n",
       "      <td>1</td>\n",
       "      <td>0</td>\n",
       "      <td>0</td>\n",
       "      <td>0</td>\n",
       "      <td>0</td>\n",
       "      <td>0</td>\n",
       "      <td>0</td>\n",
       "    </tr>\n",
       "  </tbody>\n",
       "</table>\n",
       "<p>5 rows × 25 columns</p>\n",
       "</div>"
      ],
      "text/plain": [
       "   Age  Sex  CountryType  EducationLvl  RaceType  Relation_Husband  \\\n",
       "0   57    1            1            10         1                 0   \n",
       "1   35    0            1            13         1                 0   \n",
       "2   26    1            1            13         1                 0   \n",
       "3   27    0            1            13         1                 0   \n",
       "4   21    1            0             9         0                 0   \n",
       "\n",
       "   Relation_Not-in-family  Relation_Other-relative  Relation_Own-child  \\\n",
       "0                       0                        0                   0   \n",
       "1                       0                        1                   0   \n",
       "2                       1                        0                   0   \n",
       "3                       0                        1                   0   \n",
       "4                       0                        1                   0   \n",
       "\n",
       "   Relation_Unmarried          ...           Job_Farming-fishing  \\\n",
       "0                   0          ...                             0   \n",
       "1                   0          ...                             0   \n",
       "2                   0          ...                             0   \n",
       "3                   0          ...                             0   \n",
       "4                   0          ...                             0   \n",
       "\n",
       "   Job_Handlers-cleaners  Job_Machine-op-inspct  Job_Other-service  \\\n",
       "0                      0                      0                  0   \n",
       "1                      0                      0                  1   \n",
       "2                      0                      0                  1   \n",
       "3                      0                      0                  0   \n",
       "4                      0                      0                  1   \n",
       "\n",
       "   Job_Priv-house-serv  Job_Prof-specialty  Job_Protective-serv  Job_Sales  \\\n",
       "0                    0                   0                    0          1   \n",
       "1                    0                   0                    0          0   \n",
       "2                    0                   0                    0          0   \n",
       "3                    0                   0                    0          0   \n",
       "4                    0                   0                    0          0   \n",
       "\n",
       "   Job_Tech-support  Job_Transport-moving  \n",
       "0                 0                     0  \n",
       "1                 0                     0  \n",
       "2                 0                     0  \n",
       "3                 0                     1  \n",
       "4                 0                     0  \n",
       "\n",
       "[5 rows x 25 columns]"
      ]
     },
     "execution_count": 65,
     "metadata": {},
     "output_type": "execute_result"
    }
   ],
   "source": [
    "X_test = test[feature_names]\n",
    "print(X_test.shape)\n",
    "X_test.head()"
   ]
  },
  {
   "cell_type": "code",
   "execution_count": 66,
   "metadata": {},
   "outputs": [
    {
     "name": "stdout",
     "output_type": "stream",
     "text": [
      "(11521,)\n"
     ]
    },
    {
     "data": {
      "text/plain": [
       "0    2\n",
       "1    3\n",
       "2    3\n",
       "3    3\n",
       "4    3\n",
       "Name: IncomeBracket, dtype: int64"
      ]
     },
     "execution_count": 66,
     "metadata": {},
     "output_type": "execute_result"
    }
   ],
   "source": [
    "y_test = test['IncomeBracket']\n",
    "print(y_test.shape)\n",
    "y_test.head()"
   ]
  },
  {
   "cell_type": "markdown",
   "metadata": {
    "collapsed": true
   },
   "source": [
    "### [Answers & Analysis to Question 3]\n",
    "#### Feature engineering:\n",
    "#### Why one-hot encoding features? Not label encoding?\n",
    "#### Justification on your feature selection?\n"
   ]
  },
  {
   "cell_type": "markdown",
   "metadata": {
    "collapsed": true
   },
   "source": [
    "## 4. Model implementation (25 marks):\n",
    "Implement 4 different classification algorithms of your choice on the training data using 10-fold cross-validation. \n",
    "\n",
    "How does your model accuracy compare across the folds? \n",
    "\n",
    "What is average and variance of accuracy for folds? Which model performed best? Give the reason based on bias-variance trade-off. \n",
    "\n",
    "For each algorithm, briefly talk about what it does, what its pros and cons are, and why you chose that algorithm."
   ]
  },
  {
   "cell_type": "markdown",
   "metadata": {
    "collapsed": true
   },
   "source": [
    "#### Selected Algorithms\n",
    "1. DecisionTreeClassifier\n",
    "2. kNN\n",
    "3. RandomForest\n",
    "4. XGBoost"
   ]
  },
  {
   "cell_type": "markdown",
   "metadata": {
    "collapsed": true
   },
   "source": [
    "##### 1. DecisionTreeClassifier\n",
    "##### What it does:\n",
    "##### Pros & Cons:"
   ]
  },
  {
   "cell_type": "code",
   "execution_count": 67,
   "metadata": {},
   "outputs": [
    {
     "data": {
      "text/plain": [
       "DecisionTreeClassifier(class_weight=None, criterion='gini', max_depth=None,\n",
       "            max_features=None, max_leaf_nodes=None,\n",
       "            min_impurity_decrease=0.0, min_impurity_split=None,\n",
       "            min_samples_leaf=1, min_samples_split=2,\n",
       "            min_weight_fraction_leaf=0.0, presort=False, random_state=None,\n",
       "            splitter='best')"
      ]
     },
     "execution_count": 67,
     "metadata": {},
     "output_type": "execute_result"
    }
   ],
   "source": [
    "from sklearn.tree import DecisionTreeClassifier\n",
    "\n",
    "model_dt = DecisionTreeClassifier()\n",
    "model_dt.fit(X_train, y_train)"
   ]
  },
  {
   "cell_type": "code",
   "execution_count": 68,
   "metadata": {},
   "outputs": [
    {
     "name": "stdout",
     "output_type": "stream",
     "text": [
      "List of 10 different accuracy scores: \n",
      "[ 0.71267361  0.71223958  0.70659722  0.73133681  0.71341728  0.71906209\n",
      "  0.7164568   0.73153779  0.72067767  0.72111208]\n",
      "Average of 10-fold cv score: 0.718511093370345\n"
     ]
    }
   ],
   "source": [
    "# Calculating model accuracy using 10-fold cross-validation\n",
    "from sklearn.metrics import accuracy_score\n",
    "from sklearn.model_selection import cross_val_score\n",
    "\n",
    "# Train Accuracy\n",
    "score_dt = cross_val_score(model_dt, X_train, y_train, cv = 10)\n",
    "print('List of 10 different accuracy scores: \\n{0}'.format(score_dt))\n",
    "print('Average of 10-fold cv score: {0}'.format(score_dt.mean()))"
   ]
  },
  {
   "cell_type": "code",
   "execution_count": 69,
   "metadata": {},
   "outputs": [
    {
     "name": "stdout",
     "output_type": "stream",
     "text": [
      "Variance of DecisionTreeClassifier: 0.000059147\n"
     ]
    }
   ],
   "source": [
    "# Calculating variance value\n",
    "mean_dt = score_dt.mean()\n",
    "var_dt = ((score_dt - mean_dt)**2) \n",
    "var_dt = var_dt.mean()\n",
    "print('Variance of DecisionTreeClassifier: {0:.9f}'.format(var_dt))"
   ]
  },
  {
   "cell_type": "code",
   "execution_count": 70,
   "metadata": {},
   "outputs": [
    {
     "name": "stdout",
     "output_type": "stream",
     "text": [
      "Test accuracy score of DecisionTreeClassifier: 0.7078378612967624\n"
     ]
    }
   ],
   "source": [
    "# Test Accuracy\n",
    "test_score_dt = accuracy_score(y_test, model_dt.predict(X_test))\n",
    "print('Test accuracy score of DecisionTreeClassifier: {0}'.format(test_score_dt))"
   ]
  },
  {
   "cell_type": "markdown",
   "metadata": {},
   "source": [
    "##### 2. kNN(KNeighborsClassifier)\n",
    "##### What it does:\n",
    "##### Pros & Cons:"
   ]
  },
  {
   "cell_type": "code",
   "execution_count": 71,
   "metadata": {},
   "outputs": [
    {
     "data": {
      "text/plain": [
       "KNeighborsClassifier(algorithm='auto', leaf_size=30, metric='minkowski',\n",
       "           metric_params=None, n_jobs=1, n_neighbors=5, p=2,\n",
       "           weights='uniform')"
      ]
     },
     "execution_count": 71,
     "metadata": {},
     "output_type": "execute_result"
    }
   ],
   "source": [
    "from sklearn.neighbors import KNeighborsClassifier\n",
    "\n",
    "model_knn = KNeighborsClassifier()\n",
    "model_knn.fit(X_train,y_train)"
   ]
  },
  {
   "cell_type": "code",
   "execution_count": 72,
   "metadata": {},
   "outputs": [
    {
     "name": "stdout",
     "output_type": "stream",
     "text": [
      "List of 10 different accuracy scores: \n",
      "[ 0.73003472  0.73046875  0.74131944  0.73958333  0.73903604  0.7485888\n",
      "  0.74511507  0.74283232  0.73805387  0.74326672]\n",
      "Average of 10-fold cv score: 0.7398299064985026\n"
     ]
    }
   ],
   "source": [
    "# Train Accuracy\n",
    "score_knn = cross_val_score(model_knn, X_train, y_train, cv = 10)\n",
    "print('List of 10 different accuracy scores: \\n{0}'.format(score_knn))\n",
    "print('Average of 10-fold cv score: {0}'.format(score_knn.mean()))"
   ]
  },
  {
   "cell_type": "code",
   "execution_count": 73,
   "metadata": {},
   "outputs": [
    {
     "name": "stdout",
     "output_type": "stream",
     "text": [
      "Variance of KNeighborsClassifier: 0.000031512\n"
     ]
    }
   ],
   "source": [
    "# Calculating variance value\n",
    "mean_knn = score_knn.mean()\n",
    "var_knn = ((score_knn - mean_knn)**2) \n",
    "var_knn = var_knn.mean()\n",
    "print('Variance of KNeighborsClassifier: {0:.9f}'.format(var_knn))"
   ]
  },
  {
   "cell_type": "code",
   "execution_count": 74,
   "metadata": {},
   "outputs": [
    {
     "name": "stdout",
     "output_type": "stream",
     "text": [
      "Test accuracy score of KNeighborsClassifier: 0.729797760611058\n"
     ]
    }
   ],
   "source": [
    "# Test Accuracy\n",
    "test_score_knn = accuracy_score(y_test, model_knn.predict(X_test))\n",
    "print('Test accuracy score of KNeighborsClassifier: {0}'.format(test_score_knn))"
   ]
  },
  {
   "cell_type": "markdown",
   "metadata": {},
   "source": [
    "##### 3. RandomForestClassifier\n",
    "##### What it does:\n",
    "##### Pros & Cons:"
   ]
  },
  {
   "cell_type": "code",
   "execution_count": 75,
   "metadata": {},
   "outputs": [
    {
     "data": {
      "text/plain": [
       "RandomForestClassifier(bootstrap=True, class_weight=None, criterion='gini',\n",
       "            max_depth=None, max_features='auto', max_leaf_nodes=None,\n",
       "            min_impurity_decrease=0.0, min_impurity_split=None,\n",
       "            min_samples_leaf=1, min_samples_split=2,\n",
       "            min_weight_fraction_leaf=0.0, n_estimators=10, n_jobs=1,\n",
       "            oob_score=False, random_state=None, verbose=0,\n",
       "            warm_start=False)"
      ]
     },
     "execution_count": 75,
     "metadata": {},
     "output_type": "execute_result"
    }
   ],
   "source": [
    "from sklearn.ensemble import RandomForestClassifier\n",
    "\n",
    "model_rf = RandomForestClassifier()\n",
    "model_rf.fit(X_train, y_train)"
   ]
  },
  {
   "cell_type": "code",
   "execution_count": 76,
   "metadata": {},
   "outputs": [
    {
     "name": "stdout",
     "output_type": "stream",
     "text": [
      "List of 10 different accuracy scores: \n",
      "[ 0.74348958  0.73567708  0.74088542  0.75434028  0.73773339  0.74728615\n",
      "  0.73512809  0.75325804  0.73979149  0.74370113]\n",
      "Average of 10-fold cv score: 0.7431290646239903\n"
     ]
    }
   ],
   "source": [
    "# Train Accuracy\n",
    "score_rf = cross_val_score(model_rf, X_train, y_train, cv = 10)\n",
    "print('List of 10 different accuracy scores: \\n{0}'.format(score_rf))\n",
    "print('Average of 10-fold cv score: {0}'.format(score_rf.mean()))"
   ]
  },
  {
   "cell_type": "code",
   "execution_count": 77,
   "metadata": {},
   "outputs": [
    {
     "name": "stdout",
     "output_type": "stream",
     "text": [
      "Variance of RandomForestClassifier: 0.000041086\n"
     ]
    }
   ],
   "source": [
    "# Calculating variance value\n",
    "mean_rf = score_rf.mean()\n",
    "var_rf = ((score_rf - mean_rf)**2) \n",
    "var_rf = var_rf.mean()\n",
    "print('Variance of RandomForestClassifier: {0:.9f}'.format(var_rf))"
   ]
  },
  {
   "cell_type": "code",
   "execution_count": 78,
   "metadata": {},
   "outputs": [
    {
     "name": "stdout",
     "output_type": "stream",
     "text": [
      "Test accuracy score of RandomForestClassifier: 0.729797760611058\n"
     ]
    }
   ],
   "source": [
    "# Test Accuracy\n",
    "test_score_rf = accuracy_score(y_test, model_rf.predict(X_test))\n",
    "print('Test accuracy score of RandomForestClassifier: {0}'.format(test_score_rf))"
   ]
  },
  {
   "cell_type": "markdown",
   "metadata": {},
   "source": [
    "##### 4. XGBoost\n",
    "##### What it does:\n",
    "##### Pros & Cons:"
   ]
  },
  {
   "cell_type": "code",
   "execution_count": 79,
   "metadata": {},
   "outputs": [
    {
     "name": "stderr",
     "output_type": "stream",
     "text": [
      "/Users/keonpark/anaconda3/lib/python3.6/site-packages/sklearn/cross_validation.py:41: DeprecationWarning: This module was deprecated in version 0.18 in favor of the model_selection module into which all the refactored classes and functions are moved. Also note that the interface of the new CV iterators are different from that of this module. This module will be removed in 0.20.\n",
      "  \"This module will be removed in 0.20.\", DeprecationWarning)\n"
     ]
    }
   ],
   "source": [
    "import xgboost as xgb\n",
    "\n",
    "model_xgb = xgb.XGBClassifier().fit(X_train,y_train)"
   ]
  },
  {
   "cell_type": "code",
   "execution_count": 80,
   "metadata": {},
   "outputs": [
    {
     "name": "stdout",
     "output_type": "stream",
     "text": [
      "List of 10 different accuracy scores: \n",
      "[ 0.78255208  0.78862847  0.78255208  0.79123264  0.78853669  0.78766826\n",
      "  0.77464177  0.78410078  0.78496959  0.79235447]\n",
      "Average of 10-fold cv score: 0.7857236847403465\n"
     ]
    }
   ],
   "source": [
    "# Train Accuracy\n",
    "score_xgb = cross_val_score(model_xgb, X_train, y_train, cv = 10)\n",
    "print('List of 10 different accuracy scores: \\n{0}'.format(score_xgb))\n",
    "print('Average of 10-fold cv score: {0}'.format(score_xgb.mean()))"
   ]
  },
  {
   "cell_type": "code",
   "execution_count": 81,
   "metadata": {},
   "outputs": [
    {
     "name": "stdout",
     "output_type": "stream",
     "text": [
      "Variance of XGBoost: 0.000024058\n"
     ]
    }
   ],
   "source": [
    "# Calculating variance value\n",
    "mean_xgb = score_xgb.mean()\n",
    "var_xgb = ((score_xgb - mean_xgb)**2) \n",
    "var_xgb = var_xgb.mean()\n",
    "print('Variance of XGBoost: {0:.9f}'.format(var_xgb))"
   ]
  },
  {
   "cell_type": "code",
   "execution_count": 82,
   "metadata": {},
   "outputs": [
    {
     "name": "stdout",
     "output_type": "stream",
     "text": [
      "Test accuracy score of XGBoost: 0.7732835691346237\n"
     ]
    }
   ],
   "source": [
    "# Test Accuracy\n",
    "test_score_xgb = accuracy_score(y_test, model_xgb.predict(X_test))\n",
    "print('Test accuracy score of XGBoost: {0}'.format(test_score_xgb))"
   ]
  },
  {
   "cell_type": "markdown",
   "metadata": {},
   "source": [
    "### [Answers & Analysis of Q4]\n",
    "What is average and variance of accuracy for folds? \n",
    "\n",
    "Which model performed best? \n",
    "\n",
    "Give the reason based on bias-variance trade-off."
   ]
  },
  {
   "cell_type": "markdown",
   "metadata": {},
   "source": [
    "## 5. Model tuning (20 marks):\n",
    "Improve the performance of the models from the previous step and select a final optimal model using grid search\n",
    "(parameter sweep) based on a metric (or metrics) that you choose. \n",
    "\n",
    "Choosing an optimal model for a given task (comparing multiple classifiers on a specific domain) requires selecting performance measures, such as accuracy, true positive rate (TPR), false positive rate (FPR), etc, to compare the model performance. Explain how the chosen algorithm applies to the data. \n",
    "\n",
    "Regardless of your chosen performance measures, your optimal model must have an accuracy of at least 70% in cross-validation on the training set."
   ]
  },
  {
   "cell_type": "markdown",
   "metadata": {},
   "source": [
    "##### 1. DecisionTreeClassifier"
   ]
  },
  {
   "cell_type": "code",
   "execution_count": 83,
   "metadata": {},
   "outputs": [
    {
     "name": "stdout",
     "output_type": "stream",
     "text": [
      "--- Processing time of 6.643352031707764 seconds  ---\n"
     ]
    },
    {
     "data": {
      "text/plain": [
       "GridSearchCV(cv=10, error_score='raise',\n",
       "       estimator=DecisionTreeClassifier(class_weight=None, criterion='gini', max_depth=None,\n",
       "            max_features=None, max_leaf_nodes=None,\n",
       "            min_impurity_decrease=0.0, min_impurity_split=None,\n",
       "            min_samples_leaf=1, min_samples_split=2,\n",
       "            min_weight_fraction_leaf=0.0, presort=False, random_state=None,\n",
       "            splitter='best'),\n",
       "       fit_params=None, iid=True, n_jobs=1,\n",
       "       param_grid={'max_depth': [5, 10, 15, 20, 25], 'random_state': [37], 'criterion': ['gini', 'entropy']},\n",
       "       pre_dispatch='2*n_jobs', refit=True, return_train_score='warn',\n",
       "       scoring='accuracy', verbose=0)"
      ]
     },
     "execution_count": 83,
     "metadata": {},
     "output_type": "execute_result"
    }
   ],
   "source": [
    "# Hyperparameter tuning with GridsearchCV \n",
    "# Model 1: DecitionTreeClassifier\n",
    "import time\n",
    "from sklearn.model_selection import GridSearchCV\n",
    "start = time.time()\n",
    "\n",
    "max_depth_list = list(range(5,26,5))\n",
    "seed = [37]\n",
    "\n",
    "param_dict_dt = {'max_depth': max_depth_list, 'random_state':seed,\n",
    "             'criterion':['gini', 'entropy']}\n",
    "\n",
    "param_tune_dt = GridSearchCV(model_dt, param_dict_dt, scoring= 'accuracy', cv = 10)\n",
    "param_tune_dt.fit(X_train,y_train)\n",
    "print(\"--- Processing time of %s seconds  ---\" % (time.time() - start))\n",
    "param_tune_dt"
   ]
  },
  {
   "cell_type": "code",
   "execution_count": 84,
   "metadata": {},
   "outputs": [
    {
     "name": "stdout",
     "output_type": "stream",
     "text": [
      "The Best score after tuning: 0.7793843081064652\n",
      "{'criterion': 'entropy', 'max_depth': 5, 'random_state': 37}\n"
     ]
    }
   ],
   "source": [
    "# Show optimal parameters and its respective score\n",
    "print(\"The Best score after tuning: {0}\".format(param_tune_dt.best_score_))\n",
    "print(param_tune_dt.best_params_)"
   ]
  },
  {
   "cell_type": "markdown",
   "metadata": {},
   "source": [
    "##### 2. kNN(KNeighborsClassifier)"
   ]
  },
  {
   "cell_type": "code",
   "execution_count": 85,
   "metadata": {},
   "outputs": [
    {
     "name": "stdout",
     "output_type": "stream",
     "text": [
      "--- Processing time of 241.21354794502258 seconds  ---\n"
     ]
    },
    {
     "data": {
      "text/plain": [
       "GridSearchCV(cv=10, error_score='raise',\n",
       "       estimator=KNeighborsClassifier(algorithm='auto', leaf_size=30, metric='minkowski',\n",
       "           metric_params=None, n_jobs=1, n_neighbors=5, p=2,\n",
       "           weights='uniform'),\n",
       "       fit_params=None, iid=True, n_jobs=1,\n",
       "       param_grid={'algorithm': ['auto'], 'leaf_size': [25, 26, 27, 28, 29, 30, 31, 32, 33, 34, 35, 36, 37, 38, 39, 40]},\n",
       "       pre_dispatch='2*n_jobs', refit=True, return_train_score='warn',\n",
       "       scoring='accuracy', verbose=0)"
      ]
     },
     "execution_count": 85,
     "metadata": {},
     "output_type": "execute_result"
    }
   ],
   "source": [
    "# Hyperparameter tuning with GridsearchCV \n",
    "# Model 2: KNeighborsClassifier\n",
    "start = time.time()\n",
    "\n",
    "param_dict_knn = {'algorithm': ['auto'],\n",
    "              'leaf_size': list(range(25,41)),}\n",
    "\n",
    "\n",
    "param_tune_knn = GridSearchCV(model_knn, param_dict_knn, scoring= 'accuracy', cv = 10)\n",
    "param_tune_knn.fit(X_train,y_train)\n",
    "print(\"--- Processing time of %s seconds  ---\" % (time.time() - start))\n",
    "param_tune_knn"
   ]
  },
  {
   "cell_type": "code",
   "execution_count": 86,
   "metadata": {},
   "outputs": [
    {
     "name": "stdout",
     "output_type": "stream",
     "text": [
      "The Best score after tuning: 0.7398289262298641\n",
      "{'algorithm': 'auto', 'leaf_size': 25}\n"
     ]
    }
   ],
   "source": [
    "# Show optimal parameters and its respective score\n",
    "print(\"The Best score after tuning: {0}\".format(param_tune_knn.best_score_))\n",
    "print(param_tune_knn.best_params_)"
   ]
  },
  {
   "cell_type": "markdown",
   "metadata": {},
   "source": [
    "##### 3. RandomForestClassifier"
   ]
  },
  {
   "cell_type": "code",
   "execution_count": 87,
   "metadata": {},
   "outputs": [
    {
     "name": "stdout",
     "output_type": "stream",
     "text": [
      "--- Processing time of 588.197585105896 seconds  ---\n"
     ]
    },
    {
     "data": {
      "text/plain": [
       "GridSearchCV(cv=10, error_score='raise',\n",
       "       estimator=RandomForestClassifier(bootstrap=True, class_weight=None, criterion='gini',\n",
       "            max_depth=None, max_features='auto', max_leaf_nodes=None,\n",
       "            min_impurity_decrease=0.0, min_impurity_split=None,\n",
       "            min_samples_leaf=1, min_samples_split=2,\n",
       "            min_weight_fraction_leaf=0.0, n_estimators=10, n_jobs=1,\n",
       "            oob_score=False, random_state=None, verbose=0,\n",
       "            warm_start=False),\n",
       "       fit_params=None, iid=True, n_jobs=1,\n",
       "       param_grid={'n_estimators': [500], 'max_depth': [10, 15, 20, 25, 30], 'random_state': [37]},\n",
       "       pre_dispatch='2*n_jobs', refit=True, return_train_score='warn',\n",
       "       scoring='accuracy', verbose=0)"
      ]
     },
     "execution_count": 87,
     "metadata": {},
     "output_type": "execute_result"
    }
   ],
   "source": [
    "# Hyperparameter tuning with GridsearchCV \n",
    "# Model 3: RandomForestClassifier\n",
    "start = time.time()\n",
    "\n",
    "n_estimators_list = [500]\n",
    "max_depth_list = [10,15,20,25,30]\n",
    "random_state = [37]\n",
    "\n",
    "param_dict_rf = {'n_estimators':n_estimators_list, 'max_depth': max_depth_list, \n",
    "                'random_state': random_state}\n",
    "\n",
    "param_tune_rf = GridSearchCV(model_rf, param_dict_rf, scoring= 'accuracy', cv = 10)\n",
    "param_tune_rf.fit(X_train,y_train)\n",
    "print(\"--- Processing time of %s seconds  ---\" % (time.time() - start))\n",
    "param_tune_rf"
   ]
  },
  {
   "cell_type": "code",
   "execution_count": 88,
   "metadata": {},
   "outputs": [
    {
     "name": "stdout",
     "output_type": "stream",
     "text": [
      "The Best score after tuning: 0.784073639876688\n",
      "{'max_depth': 10, 'n_estimators': 500, 'random_state': 37}\n"
     ]
    }
   ],
   "source": [
    "# Show optimal parameters and its respective score\n",
    "print(\"The Best score after tuning: {0}\".format(param_tune_rf.best_score_))\n",
    "print(param_tune_rf.best_params_)"
   ]
  },
  {
   "cell_type": "markdown",
   "metadata": {},
   "source": [
    "##### 4. XGBoost\n"
   ]
  },
  {
   "cell_type": "code",
   "execution_count": 109,
   "metadata": {},
   "outputs": [
    {
     "name": "stdout",
     "output_type": "stream",
     "text": [
      "--- Processing time of 86.04583311080933 seconds  ---\n"
     ]
    },
    {
     "data": {
      "text/plain": [
       "GridSearchCV(cv=10, error_score='raise',\n",
       "       estimator=XGBClassifier(base_score=0.5, colsample_bylevel=1, colsample_bytree=1,\n",
       "       gamma=0, learning_rate=0.1, max_delta_step=0, max_depth=3,\n",
       "       min_child_weight=1, missing=None, n_estimators=100, nthread=-1,\n",
       "       objective='multi:softprob', reg_alpha=0, reg_lambda=1,\n",
       "       scale_pos_weight=1, seed=0, silent=True, subsample=1),\n",
       "       fit_params=None, iid=True, n_jobs=1,\n",
       "       param_grid={'n_estimators': [200], 'max_depth': [3]},\n",
       "       pre_dispatch='2*n_jobs', refit=True, return_train_score='warn',\n",
       "       scoring='accuracy', verbose=0)"
      ]
     },
     "execution_count": 109,
     "metadata": {},
     "output_type": "execute_result"
    }
   ],
   "source": [
    "# Hyperparameter tuning with GridsearchCV \n",
    "# Model 4: XGBoost\n",
    "start = time.time()\n",
    "\n",
    "n_estimators_list = [150,200,250,300]\n",
    "max_depth_list = [2,3,4]\n",
    "\n",
    "param_dict_xgb = {'n_estimators':n_estimators_list, 'max_depth': max_depth_list}\n",
    "\n",
    "param_tune_xgb = GridSearchCV(model_xgb, param_dict_xgb, scoring= 'accuracy', cv = 10)\n",
    "param_tune_xgb.fit(X_train,y_train)\n",
    "print(\"--- Processing time of %s seconds  ---\" % (time.time() - start))\n",
    "param_tune_xgb\n",
    "\n",
    "\n",
    "# gbm = xgb.XGBClassifier(max_depth=3, n_estimators=300, learning_rate=0.05).fit(train_X, train_y)\n",
    "# predictions = gbm.predict(test_X)"
   ]
  },
  {
   "cell_type": "code",
   "execution_count": 110,
   "metadata": {},
   "outputs": [
    {
     "name": "stdout",
     "output_type": "stream",
     "text": [
      "The Best score after tuning: 0.7868090834093179\n",
      "{'max_depth': 3, 'n_estimators': 200}\n"
     ]
    }
   ],
   "source": [
    "# Show optimal parameters and its respective score\n",
    "print(\"The Best score after tuning: {0}\".format(param_tune_xgb.best_score_))\n",
    "print(param_tune_xgb.best_params_)"
   ]
  },
  {
   "cell_type": "markdown",
   "metadata": {
    "collapsed": true
   },
   "source": [
    "### [Answers & Analysis to Question 5]\n",
    "\n",
    "#### It turned out to be XGBoost with 'max_depth = 3', 'n_estimator = 200' which gives the best training accuracy of 0.78572"
   ]
  },
  {
   "cell_type": "markdown",
   "metadata": {},
   "source": [
    "## 6. Testing & Discussion (10 marks):\n",
    "Use your optimal model to make predictions on the test set. \n",
    "\n",
    "How does your model perform on the test set vs. the training set? \n",
    "\n",
    "The overall fit of the model, how to increase the accuracy (test, training)? Is it overfitting or underfitting? Why?\n"
   ]
  },
  {
   "cell_type": "code",
   "execution_count": 111,
   "metadata": {},
   "outputs": [
    {
     "name": "stdout",
     "output_type": "stream",
     "text": [
      "CPU times: user 7.02 s, sys: 109 ms, total: 7.13 s\n",
      "Wall time: 7.42 s\n"
     ]
    },
    {
     "data": {
      "text/plain": [
       "XGBClassifier(base_score=0.5, colsample_bylevel=1, colsample_bytree=1,\n",
       "       gamma=0, learning_rate=0.1, max_delta_step=0, max_depth=3,\n",
       "       min_child_weight=1, missing=None, n_estimators=200, nthread=-1,\n",
       "       objective='multi:softprob', reg_alpha=0, reg_lambda=1,\n",
       "       scale_pos_weight=1, seed=0, silent=True, subsample=1)"
      ]
     },
     "execution_count": 111,
     "metadata": {},
     "output_type": "execute_result"
    }
   ],
   "source": [
    "# Get test accuracy score with the best model\n",
    "model_best = xgb.XGBClassifier(max_depth = 3, n_estimators = 200)\n",
    "model_best.fit(X_train,y_train)"
   ]
  },
  {
   "cell_type": "code",
   "execution_count": 112,
   "metadata": {},
   "outputs": [
    {
     "name": "stdout",
     "output_type": "stream",
     "text": [
      "The test score of the best model(XGBoost): 0.7725891849665828\n"
     ]
    }
   ],
   "source": [
    "from sklearn.metrics import accuracy_score\n",
    "\n",
    "test_score = accuracy_score(y_test, model_best.predict(X_test))\n",
    "print('The test score of the best model(XGBoost): {0}'.format(test_score))"
   ]
  },
  {
   "cell_type": "code",
   "execution_count": null,
   "metadata": {
    "collapsed": true
   },
   "outputs": [],
   "source": []
  }
 ],
 "metadata": {
  "kernelspec": {
   "display_name": "Python 3",
   "language": "python",
   "name": "python3"
  },
  "language_info": {
   "codemirror_mode": {
    "name": "ipython",
    "version": 3
   },
   "file_extension": ".py",
   "mimetype": "text/x-python",
   "name": "python",
   "nbconvert_exporter": "python",
   "pygments_lexer": "ipython3",
   "version": "3.6.3"
  }
 },
 "nbformat": 4,
 "nbformat_minor": 2
}
